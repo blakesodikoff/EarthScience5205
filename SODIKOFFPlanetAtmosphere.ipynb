{
  "nbformat": 4,
  "nbformat_minor": 0,
  "metadata": {
    "colab": {
      "provenance": [],
      "authorship_tag": "ABX9TyOJh+5podhaYW8kAvCf5dKr",
      "include_colab_link": true
    },
    "kernelspec": {
      "name": "python3",
      "display_name": "Python 3"
    },
    "language_info": {
      "name": "python"
    }
  },
  "cells": [
    {
      "cell_type": "markdown",
      "metadata": {
        "id": "view-in-github",
        "colab_type": "text"
      },
      "source": [
        "<a href=\"https://colab.research.google.com/github/blakesodikoff/EarthScience5205/blob/main/SODIKOFFPlanetAtmosphere.ipynb\" target=\"_parent\"><img src=\"https://colab.research.google.com/assets/colab-badge.svg\" alt=\"Open In Colab\"/></a>"
      ]
    },
    {
      "cell_type": "code",
      "execution_count": 2,
      "metadata": {
        "id": "iBt6grI6PMjm"
      },
      "outputs": [],
      "source": [
        "import numpy as np\n",
        "import astropy.constants as ac\n",
        "import astropy.units as u\n",
        "import matplotlib.pyplot as plt"
      ]
    },
    {
      "cell_type": "markdown",
      "source": [
        "$\\dot{M} = \\frac{L_\\odot R_\\oplus^3}{4G (0.1 AU)^2M_\\oplus}$\n",
        "\n",
        "**Atmosphere Escape**"
      ],
      "metadata": {
        "id": "5PiL7eT-QMH-"
      }
    },
    {
      "cell_type": "code",
      "source": [
        "m_dot = u.solLum * u.earthRad**3 / (4 * ac.G * (0.1 * u.AU)**2 * u.earthMass) # rate of mass loss\n",
        "print(\"Atmosphere escape:\", m_dot.to(u.earthMass/u.year)) # assuming eta to be 1, or claiming total efficiency"
      ],
      "metadata": {
        "colab": {
          "base_uri": "https://localhost:8080/"
        },
        "id": "MBctLBRiPSBF",
        "outputId": "e29e266c-7ce5-4c8e-f05d-2115b09c0b46"
      },
      "execution_count": 4,
      "outputs": [
        {
          "output_type": "stream",
          "name": "stdout",
          "text": [
            "Atmosphere escape: 1.4708531549811543e-06 earthMass / yr\n"
          ]
        }
      ]
    },
    {
      "cell_type": "markdown",
      "source": [
        "Another issue is that not all photons from the host star can drive particle\n",
        "to escape from the atmosphere, what is the corresponding wavelength that is capable of driving atmospheric escape? $h\\frac{c}{\\lambda} = \\frac{G M_p \\mu}{R_p}$"
      ],
      "metadata": {
        "id": "bF19VUEMRNhe"
      }
    },
    {
      "cell_type": "code",
      "source": [
        "H = 8.713300235811277 * u.km # this is Scale height, found in previous code\n",
        "rho_atm = 1 * u.kg / u.m**3 # atmospheric density\n",
        "atm_mass = 4 * np.pi * u.earthRad**2 * H * 1 * rho_atm # atmoshperic mass\n",
        "print(\"Atmosphere Mass:\", atm_mass.to(u.earthMass)) # atmospheric loss after a full year"
      ],
      "metadata": {
        "colab": {
          "base_uri": "https://localhost:8080/"
        },
        "id": "pwOw5sBgP0fK",
        "outputId": "ff629e81-5436-4396-a15b-10f241166c43"
      },
      "execution_count": 5,
      "outputs": [
        {
          "output_type": "stream",
          "name": "stdout",
          "text": [
            "Atmosphere Mass: 7.458357295631287e-07 earthMass\n"
          ]
        }
      ]
    },
    {
      "cell_type": "code",
      "source": [
        "# high energy photons are more effecive at driving atmospheric escape\n",
        "mu = 2.3 * ac.m_p\n",
        "E_esc = ac.G * u.earthMass * mu / u.earthRad\n",
        "wav = ac.h * ac.c / E_esc\n",
        "print(\"Wavelength of Escape:\", wav.to(u.um))\n",
        "# This value is the min value, but really the UV and X ray that drives atmospheric escape\n",
        "\n",
        "# X ray photons only account for 1e-5 of total sol. lumino. w/ a young sun"
      ],
      "metadata": {
        "colab": {
          "base_uri": "https://localhost:8080/"
        },
        "id": "eGsjHOFzR1g-",
        "outputId": "323eda00-ee8d-42df-cbeb-e2aa6bce7a51"
      },
      "execution_count": 11,
      "outputs": [
        {
          "output_type": "stream",
          "name": "stdout",
          "text": [
            "Wavelength of Escape: 0.826237125481894 um\n"
          ]
        }
      ]
    },
    {
      "cell_type": "markdown",
      "source": [
        "$\\dot{M} \\sim 10^{-5} M_\\oplus/Myr \\left(\\frac{\\eta}{10^{-5}}\\right)\\left(\\frac{L}{L_\\odot}\\right)\\left(\\frac{a}{0.1\\ AU}\\right)^{-2}\\left(\\frac{M_p}{M_\\oplus}\\right)^{3\\alpha-1}$, where $\\alpha$ is the power of mass-radius relationship."
      ],
      "metadata": {
        "id": "dDhFl6D5UuHm"
      }
    },
    {
      "cell_type": "code",
      "source": [
        "# Earth size planet 1e-3 earthMass atmos.\n",
        "atm_frac = 1e-3\n",
        "Mp = 1* u.earthMass\n",
        "m_dot = 1e-5 * u.earthMass / u.Myr\n",
        "t_loss = atm_frac * Mp / m_dot\n",
        "print(\"Time to Atms. Loss:\", t_loss.to(u.Myr)) # time scale is essentially the envelope and mass loss ratio"
      ],
      "metadata": {
        "colab": {
          "base_uri": "https://localhost:8080/"
        },
        "id": "8Xtkap0pSguA",
        "outputId": "30a4a214-2d1e-4a34-cd3d-946a5008832d"
      },
      "execution_count": 107,
      "outputs": [
        {
          "output_type": "stream",
          "name": "stdout",
          "text": [
            "Time to Atms. Loss: 100.0 Myr\n"
          ]
        }
      ]
    },
    {
      "cell_type": "code",
      "source": [
        "# for a planet with Mp = 8 * M_earth planet with 1e-2 earthMass atm.\n",
        "atm_frac = 1e-2\n",
        "Mp = 8 * u.earthMass\n",
        "alpha = 0.3\n",
        "m_dot = 1e-5 * u.earthMass / u.Myr * (Mp / u.earthMass)**(3.0 * alpha - 1.0)\n",
        "t_loss = atm_frac * Mp / m_dot\n",
        "print(\"Time to Atms. Loss:\", t_loss.to(u.Myr))"
      ],
      "metadata": {
        "colab": {
          "base_uri": "https://localhost:8080/"
        },
        "id": "5UcRfFoUUdsM",
        "outputId": "be27ae48-9c23-463c-cdb8-4b2715c4077b"
      },
      "execution_count": 109,
      "outputs": [
        {
          "output_type": "stream",
          "name": "stdout",
          "text": [
            "Time to Atms. Loss: 9849.15530675933 Myr\n"
          ]
        }
      ]
    },
    {
      "cell_type": "code",
      "source": [
        "# now a planet w/ 40 earthMass w/ 1e-1 earthMass atm.\n",
        "atm_frac = 1e-1\n",
        "Mp = 40 * u.earthMass\n",
        "alpha = 1.0\n",
        "m_dot = 1e-5 * u.earthMass / u.Myr * (Mp / u.earthMass)**(3.0 * alpha - 1.0)\n",
        "t_loss = atm_frac * Mp / m_dot\n",
        "print(\"Time to Atms. Loss:\", t_loss.to(u.Myr))"
      ],
      "metadata": {
        "colab": {
          "base_uri": "https://localhost:8080/"
        },
        "id": "ChXwCqlTWVgq",
        "outputId": "14a22cd0-02e4-4332-90bf-c7d732ef2974"
      },
      "execution_count": 113,
      "outputs": [
        {
          "output_type": "stream",
          "name": "stdout",
          "text": [
            "Time to Atms. Loss: 250.0 Myr\n"
          ]
        }
      ]
    }
  ]
}