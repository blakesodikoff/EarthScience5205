{
  "cells": [
    {
      "cell_type": "markdown",
      "metadata": {
        "id": "view-in-github",
        "colab_type": "text"
      },
      "source": [
        "<a href=\"https://colab.research.google.com/github/blakesodikoff/EarthScience5205/blob/main/Group10_ExoPlex.ipynb\" target=\"_parent\"><img src=\"https://colab.research.google.com/assets/colab-badge.svg\" alt=\"Open In Colab\"/></a>"
      ]
    },
    {
      "cell_type": "markdown",
      "source": [
        "# Warm Up"
      ],
      "metadata": {
        "id": "1K9G94KKSQIZ"
      }
    },
    {
      "cell_type": "code",
      "source": [
        "from google.colab import drive\n",
        "drive.mount('/content/drive')"
      ],
      "metadata": {
        "colab": {
          "base_uri": "https://localhost:8080/"
        },
        "id": "3szOOMehvLYP",
        "outputId": "608594a6-5c48-466f-d51e-9dde438912d0"
      },
      "execution_count": null,
      "outputs": [
        {
          "output_type": "stream",
          "name": "stdout",
          "text": [
            "Drive already mounted at /content/drive; to attempt to forcibly remount, call drive.mount(\"/content/drive\", force_remount=True).\n"
          ]
        }
      ]
    },
    {
      "cell_type": "code",
      "source": [
        "%cd /content/drive/MyDrive/ExoPlex_dist/Group_10/"
      ],
      "metadata": {
        "colab": {
          "base_uri": "https://localhost:8080/"
        },
        "id": "lS4z6Vv3vN3B",
        "outputId": "1bbe7140-17bd-4501-9f7f-9c4bb5a1d3d6"
      },
      "execution_count": null,
      "outputs": [
        {
          "output_type": "stream",
          "name": "stdout",
          "text": [
            "/content/drive/.shortcut-targets-by-id/1CklpevfgBa21F5mnzM59y_7t9YrIFMED/ExoPlex_dist/Group_10\n"
          ]
        }
      ]
    },
    {
      "cell_type": "code",
      "source": [
        "# Earth (1 M⊕)\n",
        "!python Group_10.py --mass=1.0 | tee earth_output.txt\n",
        "!grep -i radius earth_output.txt"
      ],
      "metadata": {
        "colab": {
          "base_uri": "https://localhost:8080/"
        },
        "id": "ietAvhNkvnt-",
        "outputId": "e428300a-16ce-4524-cd2d-21d104f235b8"
      },
      "execution_count": null,
      "outputs": [
        {
          "output_type": "stream",
          "name": "stdout",
          "text": [
            "\n",
            "Core composition:  {'Fe': np.float64(100.0), 'Si': np.float64(0.0), 'O': np.float64(0.0), 'S': np.float64(0.0)}\n",
            "Mantle composition:  {'FeO': np.float64(0.0), 'SiO2': np.float64(52.55497015), 'MgO': np.float64(39.17101638), 'CaO': np.float64(3.81493827), 'Al2O3': np.float64(4.45907521)}\n",
            "Mantle Fe# -0.0\n",
            "Core Mass Percent =  32.816\n",
            "\n",
            "Your closest grid filename is:  0.07CaMg_0.00FeMg_0.09AlMg_0.9SiMg_0.0NaMg_0.00Fe_U/LM_results.txt\n",
            "\n",
            "\n",
            "Core composition:  {'Fe': np.float64(100.0), 'Si': np.float64(0.0), 'O': np.float64(0.0), 'S': np.float64(0.0)}\n",
            "Mantle composition:  {'FeO': np.float64(0.0), 'SiO2': np.float64(52.55497015), 'MgO': np.float64(39.17101638), 'CaO': np.float64(3.81493827), 'Al2O3': np.float64(4.45907521)}\n",
            "Mantle Fe# -0.0\n",
            "Core Mass Percent =  32.816\n",
            "\n",
            "The Upper mantle .tab already exists, please wait briefly for solution\n",
            "\n",
            "../Solutions_Small/0.07CaMg_0.00FeMg_0.09AlMg_0.9SiMg_0.0NaMg_0.00Fe\n",
            "The Lower mantle .tab already exists, please wait briefly for solution\n",
            "\n",
            "iteration # 1\n",
            "iteration # 2\n",
            "iteration # 3\n",
            "iteration # 4\n",
            "iteration # 5\n",
            "iteration # 6\n",
            "iteration # 7\n",
            "iteration # 8\n",
            "iteration # 9\n",
            "iteration # 10\n",
            "iteration # 11\n",
            "iteration # 12\n",
            "iteration # 13\n",
            "iteration # 14\n",
            "iteration # 15\n",
            "\n",
            "Mass =  1.000 Earth masses\n",
            "Radius =  0.999 Earth radii\n",
            "Core Mass Fraction =  32.95\n",
            "Core Radius Fraction =  53.02\n",
            "CMB Pressure =  141.56 GPa\n",
            "number of oceans: 0.00\n",
            "\n",
            "Detailed data file written to: high_wFEO_Radius_1.00.txt\n",
            "\n",
            "Figure(1200x1000)\n",
            "Radius =  0.999 Earth radii\n",
            "Core Radius Fraction =  53.02\n",
            "Detailed data file written to: high_wFEO_Radius_1.00.txt\n"
          ]
        }
      ]
    },
    {
      "cell_type": "markdown",
      "source": [
        "So we see Earth's radius is roughly 0.999 Earth Radii [haha, but close enough for me]"
      ],
      "metadata": {
        "id": "WvSaOKqdwDBk"
      }
    },
    {
      "cell_type": "code",
      "source": [
        "# Mars (0.107 M⊕)\n",
        "!python Group_10.py --mass=0.107 | tee mars_output.txt\n",
        "!grep -i radius mars_output.txt"
      ],
      "metadata": {
        "colab": {
          "base_uri": "https://localhost:8080/"
        },
        "id": "d3ZkUCwmvqDZ",
        "outputId": "02fe093b-7cd0-4846-c85a-995fff6fd537"
      },
      "execution_count": null,
      "outputs": [
        {
          "output_type": "stream",
          "name": "stdout",
          "text": [
            "\n",
            "Core composition:  {'Fe': np.float64(100.0), 'Si': np.float64(0.0), 'O': np.float64(0.0), 'S': np.float64(0.0)}\n",
            "Mantle composition:  {'FeO': np.float64(0.0), 'SiO2': np.float64(52.55497015), 'MgO': np.float64(39.17101638), 'CaO': np.float64(3.81493827), 'Al2O3': np.float64(4.45907521)}\n",
            "Mantle Fe# -0.0\n",
            "Core Mass Percent =  32.816\n",
            "\n",
            "Your closest grid filename is:  0.07CaMg_0.00FeMg_0.09AlMg_0.9SiMg_0.0NaMg_0.00Fe_U/LM_results.txt\n",
            "\n",
            "\n",
            "Core composition:  {'Fe': np.float64(100.0), 'Si': np.float64(0.0), 'O': np.float64(0.0), 'S': np.float64(0.0)}\n",
            "Mantle composition:  {'FeO': np.float64(0.0), 'SiO2': np.float64(52.55497015), 'MgO': np.float64(39.17101638), 'CaO': np.float64(3.81493827), 'Al2O3': np.float64(4.45907521)}\n",
            "Mantle Fe# -0.0\n",
            "Core Mass Percent =  32.816\n",
            "\n",
            "The Upper mantle .tab already exists, please wait briefly for solution\n",
            "\n",
            "../Solutions_Small/0.07CaMg_0.00FeMg_0.09AlMg_0.9SiMg_0.0NaMg_0.00Fe\n",
            "The Lower mantle .tab already exists, please wait briefly for solution\n",
            "\n",
            "iteration # 1\n",
            "iteration # 2\n",
            "iteration # 3\n",
            "iteration # 4\n",
            "iteration # 5\n",
            "iteration # 6\n",
            "iteration # 7\n",
            "iteration # 8\n",
            "iteration # 9\n",
            "iteration # 10\n",
            "iteration # 11\n",
            "\n",
            "Mass =  0.107 Earth masses\n",
            "Radius =  0.520 Earth radii\n",
            "Core Mass Fraction =  32.95\n",
            "Core Radius Fraction =  54.67\n",
            "CMB Pressure =  20.35 GPa\n",
            "number of oceans: 0.00\n",
            "\n",
            "Detailed data file written to: high_wFEO_Radius_0.52.txt\n",
            "\n",
            "Figure(1200x1000)\n",
            "Radius =  0.520 Earth radii\n",
            "Core Radius Fraction =  54.67\n",
            "Detailed data file written to: high_wFEO_Radius_0.52.txt\n"
          ]
        }
      ]
    },
    {
      "cell_type": "markdown",
      "source": [
        "Mars has a radius of 0.520 earthRad"
      ],
      "metadata": {
        "id": "Dl3NlRBTwKZ-"
      }
    },
    {
      "cell_type": "code",
      "source": [
        "# Mercury (0.0553 M⊕)\n",
        "!python Group_10.py --mass=0.0553 | tee mercury_output.txt\n",
        "!grep -i radius mercury_output.txt\n"
      ],
      "metadata": {
        "colab": {
          "base_uri": "https://localhost:8080/"
        },
        "id": "CnjNmlllvrIO",
        "outputId": "92039f7f-cc6b-4dde-8e40-d11a399d6f1d"
      },
      "execution_count": null,
      "outputs": [
        {
          "output_type": "stream",
          "name": "stdout",
          "text": [
            "\n",
            "Core composition:  {'Fe': np.float64(100.0), 'Si': np.float64(0.0), 'O': np.float64(0.0), 'S': np.float64(0.0)}\n",
            "Mantle composition:  {'FeO': np.float64(0.0), 'SiO2': np.float64(52.55497015), 'MgO': np.float64(39.17101638), 'CaO': np.float64(3.81493827), 'Al2O3': np.float64(4.45907521)}\n",
            "Mantle Fe# -0.0\n",
            "Core Mass Percent =  32.816\n",
            "\n",
            "Your closest grid filename is:  0.07CaMg_0.00FeMg_0.09AlMg_0.9SiMg_0.0NaMg_0.00Fe_U/LM_results.txt\n",
            "\n",
            "\n",
            "Core composition:  {'Fe': np.float64(100.0), 'Si': np.float64(0.0), 'O': np.float64(0.0), 'S': np.float64(0.0)}\n",
            "Mantle composition:  {'FeO': np.float64(0.0), 'SiO2': np.float64(52.55497015), 'MgO': np.float64(39.17101638), 'CaO': np.float64(3.81493827), 'Al2O3': np.float64(4.45907521)}\n",
            "Mantle Fe# -0.0\n",
            "Core Mass Percent =  32.816\n",
            "\n",
            "The Upper mantle .tab already exists, please wait briefly for solution\n",
            "\n",
            "../Solutions_Small/0.07CaMg_0.00FeMg_0.09AlMg_0.9SiMg_0.0NaMg_0.00Fe\n",
            "The Lower mantle .tab already exists, please wait briefly for solution\n",
            "\n",
            "iteration # 1\n",
            "iteration # 2\n",
            "iteration # 3\n",
            "iteration # 4\n",
            "iteration # 5\n",
            "iteration # 6\n",
            "iteration # 7\n",
            "iteration # 8\n",
            "\n",
            "Mass =  0.055 Earth masses\n",
            "Radius =  0.422 Earth radii\n",
            "Core Mass Fraction =  32.95\n",
            "Core Radius Fraction =  55.10\n",
            "CMB Pressure =  12.28 GPa\n",
            "number of oceans: 0.00\n",
            "\n",
            "Detailed data file written to: high_wFEO_Radius_0.42.txt\n",
            "\n",
            "Figure(1200x1000)\n",
            "Radius =  0.422 Earth radii\n",
            "Core Radius Fraction =  55.10\n",
            "Detailed data file written to: high_wFEO_Radius_0.42.txt\n"
          ]
        }
      ]
    },
    {
      "cell_type": "markdown",
      "source": [
        "Finally, Mercury radius is 0.422 earth Rad"
      ],
      "metadata": {
        "id": "Cbcx2fXqwOnC"
      }
    },
    {
      "cell_type": "markdown",
      "source": [
        "Now, we want to adjust iron rel. to Mg"
      ],
      "metadata": {
        "id": "jZp9IbTZw8J6"
      }
    },
    {
      "cell_type": "code",
      "source": [
        "%%bash\n",
        "# Cell 3 (revised): Sweep Fe/Mg and record radius & core‐mass fraction\n",
        "echo \"FeMg,Radius_earth_radii,CoreMassFraction\" > femg_sweep.csv\n",
        "\n",
        "for fe in 0.5 0.7 0.9 1.1 1.3 1.5; do\n",
        "  # Run ExoPlex and capture all output\n",
        "  out=$(python Group_10.py --mass=1.0 --FeMg=$fe)\n",
        "\n",
        "  # Extract first float after any 'radius' occurrence\n",
        "  rad=$(echo \"$out\" \\\n",
        "        | grep -i radius \\\n",
        "        | grep -Eo '[0-9]+\\.[0-9]+' \\\n",
        "        | head -n1)\n",
        "\n",
        "  # Extract the float after 'Core mass fraction'\n",
        "  cmf=$(echo \"$out\" \\\n",
        "        | grep -i \"Core mass fraction\" \\\n",
        "        | grep -Eo '[0-9]+\\.[0-9]+')\n",
        "\n",
        "  # Append to CSV (if rad is empty you'll see a blank cell)\n",
        "  echo \"$fe,$rad,$cmf\" >> femg_sweep.csv\n",
        "done\n",
        "\n",
        "# Show the table\n",
        "cat femg_sweep.csv\n"
      ],
      "metadata": {
        "colab": {
          "base_uri": "https://localhost:8080/"
        },
        "id": "jcf39f6Wwq6j",
        "outputId": "2d7df00a-1d2a-494a-f979-d8c6fface469"
      },
      "execution_count": null,
      "outputs": [
        {
          "output_type": "stream",
          "name": "stdout",
          "text": [
            "FeMg,Radius_earth_radii,CoreMassFraction\n",
            "0.5,1.028,21.50\n",
            "0.7,1.013,27.68\n",
            "0.9,0.999,32.95\n",
            "1.1,0.988,37.51\n",
            "1.3,0.978,41.49\n",
            "1.5,0.968,44.99\n"
          ]
        }
      ]
    },
    {
      "cell_type": "code",
      "source": [
        "%%bash\n",
        "# Cell 3: Sweep mol_frac_Fe_mantle and capture radius & structure\n",
        "\n",
        "# Prepare CSV\n",
        "echo \"MolFracFeMantle,Radius_earth_radii,CoreMassFraction\" > fe_mantle_sweep.csv\n",
        "\n",
        "# Loop over small FeO‐in‐mantle fractions\n",
        "for fm in 0.01 0.02 0.05 0.1 0.2; do\n",
        "  # Run the model\n",
        "  out=$(python Group_10.py --mass=1.0 --mol_frac_Fe_mantle=$fm)\n",
        "\n",
        "  # Extract the first decimal in any 'radius' line\n",
        "  rad=$(echo \"$out\" \\\n",
        "        | grep -i radius \\\n",
        "        | grep -Eo '[0-9]+\\.[0-9]+' \\\n",
        "        | head -n1)\n",
        "\n",
        "  # Extract the decimal after 'Core mass fraction'\n",
        "  cmf=$(echo \"$out\" \\\n",
        "        | grep -i \"Core mass fraction\" \\\n",
        "        | grep -Eo '[0-9]+\\.[0-9]+')\n",
        "\n",
        "  # Append to CSV\n",
        "  echo \"$fm,$rad,$cmf\" >> fe_mantle_sweep.csv\n",
        "\n",
        "  # Copy the latest .tsv (mantle composition output) to a named file\n",
        "  latest=$(ls -t *.tsv | head -1)\n",
        "  cp \"$latest\" \"mantle_${fm}.tsv\"\n",
        "done\n",
        "\n",
        "# Show results\n",
        "cat fe_mantle_sweep.csv\n"
      ],
      "metadata": {
        "colab": {
          "base_uri": "https://localhost:8080/"
        },
        "id": "UfUHJ_Y0wsw9",
        "outputId": "fc003189-ea76-436d-f07d-6fff2e06f9b2"
      },
      "execution_count": null,
      "outputs": [
        {
          "output_type": "stream",
          "name": "stdout",
          "text": [
            "MolFracFeMantle,Radius_earth_radii,CoreMassFraction\n",
            "0.01,1.000,32.59\n",
            "0.02,0.999,32.24\n",
            "0.05,0.999,31.17\n",
            "0.1,1.001,29.40\n",
            "0.2,1.004,25.92\n"
          ]
        }
      ]
    },
    {
      "cell_type": "code",
      "source": [
        "%%bash\n",
        "\n",
        "# ---- Si in core ----\n",
        "echo \"wt_frac_Si_core,Radius_earth_radii,CoreMassFraction\" > si_core_sweep.csv\n",
        "for val in 0.01 0.02 0.05 0.1; do\n",
        "  out=$(python Group_10.py --mass=1.0 --wt_frac_Si_core=$val)\n",
        "  rad=$(echo \"$out\" | grep -i radius | grep -Eo '[0-9]+\\.[0-9]+' | head -n1)\n",
        "  cmf=$(echo \"$out\" | grep -i \"Core mass fraction\" | grep -Eo '[0-9]+\\.[0-9]+')\n",
        "  echo \"$val,$rad,$cmf\" >> si_core_sweep.csv\n",
        "  cp $(ls -t *.tsv | head -1) mantle_si_${val}.tsv\n",
        "done\n",
        "echo \"-- Si core sweep --\"\n",
        "cat si_core_sweep.csv\n",
        "\n",
        "# ---- O in core ----\n",
        "echo \"wt_frac_O_core,Radius_earth_radii,CoreMassFraction\" > o_core_sweep.csv\n",
        "for val in 0.01 0.02 0.05 0.1; do\n",
        "  out=$(python Group_10.py --mass=1.0 --wt_frac_O_core=$val)\n",
        "  rad=$(echo \"$out\" | grep -i radius | grep -Eo '[0-9]+\\.[0-9]+' | head -n1)\n",
        "  cmf=$(echo \"$out\" | grep -i \"Core mass fraction\" | grep -Eo '[0-9]+\\.[0-9]+')\n",
        "  echo \"$val,$rad,$cmf\" >> o_core_sweep.csv\n",
        "  cp $(ls -t *.tsv | head -1) mantle_o_${val}.tsv\n",
        "done\n",
        "echo \"-- O core sweep --\"\n",
        "cat o_core_sweep.csv\n",
        "\n",
        "# ---- S in core ----\n",
        "echo \"wt_frac_S_core,Radius_earth_radii,CoreMassFraction\" > s_core_sweep.csv\n",
        "for val in 0.01 0.02 0.05 0.1; do\n",
        "  out=$(python Group_10.py --mass=1.0 --wt_frac_S_core=$val)\n",
        "  rad=$(echo \"$out\" | grep -i radius | grep -Eo '[0-9]+\\.[0-9]+' | head -n1)\n",
        "  cmf=$(echo \"$out\" | grep -i \"Core mass fraction\" | grep -Eo '[0-9]+\\.[0-9]+')\n",
        "  echo \"$val,$rad,$cmf\" >> s_core_sweep.csv\n",
        "  cp $(ls -t *.tsv | head -1) mantle_s_${val}.tsv\n",
        "done\n",
        "echo \"-- S core sweep --\"\n",
        "cat s_core_sweep.csv\n"
      ],
      "metadata": {
        "colab": {
          "base_uri": "https://localhost:8080/"
        },
        "id": "VmTyWmgyycux",
        "outputId": "117693bc-8b8c-4a78-9520-00391b6265f0"
      },
      "execution_count": null,
      "outputs": [
        {
          "output_type": "stream",
          "name": "stdout",
          "text": [
            "-- Si core sweep --\n",
            "wt_frac_Si_core,Radius_earth_radii,CoreMassFraction\n",
            "0.01,1.000,32.00\n",
            "0.02,1.001,31.11\n",
            "0.05,1.002,28.71\n",
            "0.1,1.006,25.44\n",
            "-- O core sweep --\n",
            "wt_frac_O_core,Radius_earth_radii,CoreMassFraction\n",
            "0.01,1.001,33.17\n",
            "0.02,1.003,33.40\n",
            "0.05,1.007,34.09\n",
            "0.1,1.016,35.31\n",
            "-- S core sweep --\n",
            "wt_frac_S_core,Radius_earth_radii,CoreMassFraction\n",
            "0.01,0.999,33.17\n",
            "0.02,1.000,33.40\n",
            "0.05,1.000,34.09\n",
            "0.1,1.000,35.31\n"
          ]
        }
      ]
    },
    {
      "cell_type": "code",
      "source": [
        "%%bash\n",
        "# Cell 3: Run ExoPlex for different Si/Mg ratios\n",
        "echo \"SiMg,Radius_earth_radii,CoreMassFraction\" > simg_sweep.csv\n",
        "for ratio in 0.7 0.9 1.1 1.3 1.5; do\n",
        "  out=$(python Group_10.py --mass=1.0 --SiMg=$ratio)\n",
        "  rad=$(echo \"$out\" | grep -i radius | grep -Eo '[0-9]+\\.[0-9]+' | head -n1)\n",
        "  cmf=$(echo \"$out\" | grep -i \"Core mass fraction\" | grep -Eo '[0-9]+\\.[0-9]+')\n",
        "  echo \"$ratio,$rad,$cmf\" >> simg_sweep.csv\n",
        "  cp \"$(ls -t *.tsv | head -1)\" \"mantle_simg_${ratio}.tsv\"\n",
        "done\n",
        "cat simg_sweep.csv"
      ],
      "metadata": {
        "colab": {
          "base_uri": "https://localhost:8080/"
        },
        "id": "3zwMr6brzQyZ",
        "outputId": "a6594310-0564-4ec0-f0b8-19dd92527420"
      },
      "execution_count": null,
      "outputs": [
        {
          "output_type": "stream",
          "name": "stdout",
          "text": [
            "SiMg,Radius_earth_radii,CoreMassFraction\n",
            "0.7,0.994,35.74\n",
            "0.9,0.999,32.95\n",
            "1.1,1.004,30.57\n",
            "1.3,1.008,28.51\n",
            "1.5,1.012,26.71\n"
          ]
        }
      ]
    },
    {
      "cell_type": "code",
      "source": [
        "# Cell 1: Load and preview the mantle composition TSV\n",
        "import pandas as pd\n",
        "import io\n",
        "\n",
        "# Path to the file you uploaded\n",
        "from google.colab import files\n",
        "\n",
        "uploaded = files.upload()\n",
        "filename = next(iter(uploaded))"
      ],
      "metadata": {
        "colab": {
          "base_uri": "https://localhost:8080/",
          "height": 91
        },
        "id": "ccxnYCNO0ief",
        "outputId": "8cf20f4e-0424-4b5b-d8eb-9cd424732974"
      },
      "execution_count": null,
      "outputs": [
        {
          "output_type": "display_data",
          "data": {
            "text/plain": [
              "<IPython.core.display.HTML object>"
            ],
            "text/html": [
              "\n",
              "     <input type=\"file\" id=\"files-0c755f20-70a2-4509-8ed6-94de4673bc50\" name=\"files[]\" multiple disabled\n",
              "        style=\"border:none\" />\n",
              "     <output id=\"result-0c755f20-70a2-4509-8ed6-94de4673bc50\">\n",
              "      Upload widget is only available when the cell has been executed in the\n",
              "      current browser session. Please rerun this cell to enable.\n",
              "      </output>\n",
              "      <script>// Copyright 2017 Google LLC\n",
              "//\n",
              "// Licensed under the Apache License, Version 2.0 (the \"License\");\n",
              "// you may not use this file except in compliance with the License.\n",
              "// You may obtain a copy of the License at\n",
              "//\n",
              "//      http://www.apache.org/licenses/LICENSE-2.0\n",
              "//\n",
              "// Unless required by applicable law or agreed to in writing, software\n",
              "// distributed under the License is distributed on an \"AS IS\" BASIS,\n",
              "// WITHOUT WARRANTIES OR CONDITIONS OF ANY KIND, either express or implied.\n",
              "// See the License for the specific language governing permissions and\n",
              "// limitations under the License.\n",
              "\n",
              "/**\n",
              " * @fileoverview Helpers for google.colab Python module.\n",
              " */\n",
              "(function(scope) {\n",
              "function span(text, styleAttributes = {}) {\n",
              "  const element = document.createElement('span');\n",
              "  element.textContent = text;\n",
              "  for (const key of Object.keys(styleAttributes)) {\n",
              "    element.style[key] = styleAttributes[key];\n",
              "  }\n",
              "  return element;\n",
              "}\n",
              "\n",
              "// Max number of bytes which will be uploaded at a time.\n",
              "const MAX_PAYLOAD_SIZE = 100 * 1024;\n",
              "\n",
              "function _uploadFiles(inputId, outputId) {\n",
              "  const steps = uploadFilesStep(inputId, outputId);\n",
              "  const outputElement = document.getElementById(outputId);\n",
              "  // Cache steps on the outputElement to make it available for the next call\n",
              "  // to uploadFilesContinue from Python.\n",
              "  outputElement.steps = steps;\n",
              "\n",
              "  return _uploadFilesContinue(outputId);\n",
              "}\n",
              "\n",
              "// This is roughly an async generator (not supported in the browser yet),\n",
              "// where there are multiple asynchronous steps and the Python side is going\n",
              "// to poll for completion of each step.\n",
              "// This uses a Promise to block the python side on completion of each step,\n",
              "// then passes the result of the previous step as the input to the next step.\n",
              "function _uploadFilesContinue(outputId) {\n",
              "  const outputElement = document.getElementById(outputId);\n",
              "  const steps = outputElement.steps;\n",
              "\n",
              "  const next = steps.next(outputElement.lastPromiseValue);\n",
              "  return Promise.resolve(next.value.promise).then((value) => {\n",
              "    // Cache the last promise value to make it available to the next\n",
              "    // step of the generator.\n",
              "    outputElement.lastPromiseValue = value;\n",
              "    return next.value.response;\n",
              "  });\n",
              "}\n",
              "\n",
              "/**\n",
              " * Generator function which is called between each async step of the upload\n",
              " * process.\n",
              " * @param {string} inputId Element ID of the input file picker element.\n",
              " * @param {string} outputId Element ID of the output display.\n",
              " * @return {!Iterable<!Object>} Iterable of next steps.\n",
              " */\n",
              "function* uploadFilesStep(inputId, outputId) {\n",
              "  const inputElement = document.getElementById(inputId);\n",
              "  inputElement.disabled = false;\n",
              "\n",
              "  const outputElement = document.getElementById(outputId);\n",
              "  outputElement.innerHTML = '';\n",
              "\n",
              "  const pickedPromise = new Promise((resolve) => {\n",
              "    inputElement.addEventListener('change', (e) => {\n",
              "      resolve(e.target.files);\n",
              "    });\n",
              "  });\n",
              "\n",
              "  const cancel = document.createElement('button');\n",
              "  inputElement.parentElement.appendChild(cancel);\n",
              "  cancel.textContent = 'Cancel upload';\n",
              "  const cancelPromise = new Promise((resolve) => {\n",
              "    cancel.onclick = () => {\n",
              "      resolve(null);\n",
              "    };\n",
              "  });\n",
              "\n",
              "  // Wait for the user to pick the files.\n",
              "  const files = yield {\n",
              "    promise: Promise.race([pickedPromise, cancelPromise]),\n",
              "    response: {\n",
              "      action: 'starting',\n",
              "    }\n",
              "  };\n",
              "\n",
              "  cancel.remove();\n",
              "\n",
              "  // Disable the input element since further picks are not allowed.\n",
              "  inputElement.disabled = true;\n",
              "\n",
              "  if (!files) {\n",
              "    return {\n",
              "      response: {\n",
              "        action: 'complete',\n",
              "      }\n",
              "    };\n",
              "  }\n",
              "\n",
              "  for (const file of files) {\n",
              "    const li = document.createElement('li');\n",
              "    li.append(span(file.name, {fontWeight: 'bold'}));\n",
              "    li.append(span(\n",
              "        `(${file.type || 'n/a'}) - ${file.size} bytes, ` +\n",
              "        `last modified: ${\n",
              "            file.lastModifiedDate ? file.lastModifiedDate.toLocaleDateString() :\n",
              "                                    'n/a'} - `));\n",
              "    const percent = span('0% done');\n",
              "    li.appendChild(percent);\n",
              "\n",
              "    outputElement.appendChild(li);\n",
              "\n",
              "    const fileDataPromise = new Promise((resolve) => {\n",
              "      const reader = new FileReader();\n",
              "      reader.onload = (e) => {\n",
              "        resolve(e.target.result);\n",
              "      };\n",
              "      reader.readAsArrayBuffer(file);\n",
              "    });\n",
              "    // Wait for the data to be ready.\n",
              "    let fileData = yield {\n",
              "      promise: fileDataPromise,\n",
              "      response: {\n",
              "        action: 'continue',\n",
              "      }\n",
              "    };\n",
              "\n",
              "    // Use a chunked sending to avoid message size limits. See b/62115660.\n",
              "    let position = 0;\n",
              "    do {\n",
              "      const length = Math.min(fileData.byteLength - position, MAX_PAYLOAD_SIZE);\n",
              "      const chunk = new Uint8Array(fileData, position, length);\n",
              "      position += length;\n",
              "\n",
              "      const base64 = btoa(String.fromCharCode.apply(null, chunk));\n",
              "      yield {\n",
              "        response: {\n",
              "          action: 'append',\n",
              "          file: file.name,\n",
              "          data: base64,\n",
              "        },\n",
              "      };\n",
              "\n",
              "      let percentDone = fileData.byteLength === 0 ?\n",
              "          100 :\n",
              "          Math.round((position / fileData.byteLength) * 100);\n",
              "      percent.textContent = `${percentDone}% done`;\n",
              "\n",
              "    } while (position < fileData.byteLength);\n",
              "  }\n",
              "\n",
              "  // All done.\n",
              "  yield {\n",
              "    response: {\n",
              "      action: 'complete',\n",
              "    }\n",
              "  };\n",
              "}\n",
              "\n",
              "scope.google = scope.google || {};\n",
              "scope.google.colab = scope.google.colab || {};\n",
              "scope.google.colab._files = {\n",
              "  _uploadFiles,\n",
              "  _uploadFilesContinue,\n",
              "};\n",
              "})(self);\n",
              "</script> "
            ]
          },
          "metadata": {}
        },
        {
          "output_type": "stream",
          "name": "stdout",
          "text": [
            "Saving high_wFEO_Radius_1.06(1).tsv to high_wFEO_Radius_1.06(1) (4).tsv\n"
          ]
        }
      ]
    },
    {
      "cell_type": "code",
      "source": [
        "df = pd.read_csv(io.BytesIO(uploaded[filename]), sep='\\t')\n"
      ],
      "metadata": {
        "id": "Tk9_zVji2WIy"
      },
      "execution_count": null,
      "outputs": []
    },
    {
      "cell_type": "code",
      "source": [
        "print(df.head())\n"
      ],
      "metadata": {
        "colab": {
          "base_uri": "https://localhost:8080/"
        },
        "id": "csIJG4Dx3y9a",
        "outputId": "14780c1b-c81e-4752-bf2f-d867aa9826db"
      },
      "execution_count": null,
      "outputs": [
        {
          "output_type": "stream",
          "name": "stdout",
          "text": [
            "      # Depth     Radius   Density   Pressure  Temperature  c2c_ss  \\\n",
            "0  6780.58950    0.00000  14.41303  451.16480          0.0     0.0   \n",
            "1  6400.52700  380.06251  14.37834  446.92947          0.0     0.0   \n",
            "2  6301.62839  478.96111  14.35812  444.47248          0.0     0.0   \n",
            "3  6232.20089  548.38861  14.34114  442.41596          0.0     0.0   \n",
            "4  6176.89313  603.69637  14.32597  440.58288          0.0     0.0   \n",
            "\n",
            "   ferropericlase  perovskite  plagioclase  spinel  ...  nephaline  coesite  \\\n",
            "0             0.0         0.0          0.0     0.0  ...        0.0      0.0   \n",
            "1             0.0         0.0          0.0     0.0  ...        0.0      0.0   \n",
            "2             0.0         0.0          0.0     0.0  ...        0.0      0.0   \n",
            "3             0.0         0.0          0.0     0.0  ...        0.0      0.0   \n",
            "4             0.0         0.0          0.0     0.0  ...        0.0      0.0   \n",
            "\n",
            "   seiferite  quartz  stishovite   cf  ca-perovskite  cfs  fmaj     Fe  \n",
            "0        0.0     0.0         0.0  0.0            0.0  0.0   0.0  100.0  \n",
            "1        0.0     0.0         0.0  0.0            0.0  0.0   0.0  100.0  \n",
            "2        0.0     0.0         0.0  0.0            0.0  0.0   0.0  100.0  \n",
            "3        0.0     0.0         0.0  0.0            0.0  0.0   0.0  100.0  \n",
            "4        0.0     0.0         0.0  0.0            0.0  0.0   0.0  100.0  \n",
            "\n",
            "[5 rows x 29 columns]\n"
          ]
        }
      ]
    },
    {
      "cell_type": "code",
      "source": [
        "# Cell 3: Compute & print mean mineral fractions\n",
        "mean_fracs = df.iloc[:, 1:].mean().sort_values(ascending=False)\n",
        "mean_table = pd.DataFrame({\n",
        "    'Mineral': mean_fracs.index,\n",
        "    'MeanFraction': mean_fracs.values\n",
        "})\n",
        "print(mean_table)\n"
      ],
      "metadata": {
        "colab": {
          "base_uri": "https://localhost:8080/"
        },
        "id": "HxNHDzPM39Pj",
        "outputId": "3f83c3e7-39b1-4c5b-de40-52d63ea219b8"
      },
      "execution_count": null,
      "outputs": [
        {
          "output_type": "stream",
          "name": "stdout",
          "text": [
            "           Mineral  MeanFraction\n",
            "0           Radius   3748.707181\n",
            "1      Temperature    963.652235\n",
            "2         Pressure    184.433548\n",
            "3               Fe     54.454545\n",
            "4       perovskite     24.769282\n",
            "5          Density      9.063734\n",
            "6   postperovskite      7.724999\n",
            "7    orthopyroxene      3.746398\n",
            "8    ca-perovskite      2.201834\n",
            "9           garnet      2.135529\n",
            "10          c2c_ss      1.763270\n",
            "11      stishovite      1.119014\n",
            "12      akimotoite      0.899116\n",
            "13   clinopyroxene      0.603207\n",
            "14       seiferite      0.201715\n",
            "15         coesite      0.163560\n",
            "16          quartz      0.076548\n",
            "17       wadslyite      0.045860\n",
            "18     plagioclase      0.004214\n",
            "19  ferropericlase      0.000000\n",
            "20     ringwoodite      0.000000\n",
            "21         olivine      0.000000\n",
            "22          spinel      0.000000\n",
            "23         kyanite      0.000000\n",
            "24       nephaline      0.000000\n",
            "25              cf      0.000000\n",
            "26             cfs      0.000000\n",
            "27            fmaj      0.000000\n"
          ]
        }
      ]
    },
    {
      "cell_type": "code",
      "source": [
        "import matplotlib.pyplot as plt\n",
        "\n",
        "top = mean_fracs.index[0]\n",
        "depth = df.columns[0]\n",
        "\n",
        "plt.figure()\n",
        "plt.plot(df[depth], df[top], marker='o')\n",
        "plt.xlabel(depth)\n",
        "plt.ylabel(f'{top} Fraction')\n",
        "plt.title(f'{top} Abundance vs {depth}')\n",
        "plt.grid(True)\n",
        "plt.show()"
      ],
      "metadata": {
        "colab": {
          "base_uri": "https://localhost:8080/",
          "height": 472
        },
        "id": "lriXrKYi3-yO",
        "outputId": "87b2979f-022d-47aa-99ba-53704ee4ac00"
      },
      "execution_count": null,
      "outputs": [
        {
          "output_type": "display_data",
          "data": {
            "text/plain": [
              "<Figure size 640x480 with 1 Axes>"
            ],
            "image/png": "[encoded data removed]"
          },
          "metadata": {}
        }
      ]
    },
    {
      "cell_type": "markdown",
      "source": [
        "Fe/Mg ratio is the primary control on core-mass fraction and mean density.\n",
        "\n",
        "Mantle Fe O fraction can fine tune the density by shifting iron throughout the mantle.\n",
        "\n",
        "Si, O, S can lower core density, which could boost radius of a fixed mass."
      ],
      "metadata": {
        "id": "_N_yWGM_4QpR"
      }
    },
    {
      "cell_type": "markdown",
      "source": [
        "# Actual Project"
      ],
      "metadata": {
        "id": "hq4xlgzQ5DOK"
      }
    },
    {
      "cell_type": "markdown",
      "source": [
        "The Exoplanet we chose is GJ 1132b"
      ],
      "metadata": {
        "id": "MHNxgbeU5G0n"
      }
    },
    {
      "cell_type": "markdown",
      "source": [
        "From near-IR Spect. (FIRE/Magellan), GJ 1132's composition:\n",
        "\n",
        "\n",
        "Fe/H = −0.12±0.15 dex\n",
        "\n",
        "\n",
        "Let's assume\n",
        "\n",
        "Mg/H ≈ Fe/H and Si/H ≈ Fe/H.\n",
        "\n",
        "Fe/Mg = 0.9\n",
        "\n",
        "Si/Mg = 0.9\n",
        "\n",
        "Ca/Mg = 0.07\n",
        "\n",
        "Al/Mg = 0.09\n"
      ],
      "metadata": {
        "id": "A08NkJIz5Rpk"
      }
    },
    {
      "cell_type": "code",
      "source": [
        "%%bash\n",
        "cd /content/drive/MyDrive/ExoPlex_dist/Group_10/\n",
        "python Group_10.py --mass=1.66 --FeMg=0.9 --SiMg=0.9 | tee baseline_output.txt\n",
        "grep -i \"radius\" baseline_output.txt\n",
        "grep -i \"Core mass fraction\" baseline_output.txt\n"
      ],
      "metadata": {
        "colab": {
          "base_uri": "https://localhost:8080/"
        },
        "id": "LTG9YTkL4C0g",
        "outputId": "c64ef580-2c7c-4120-eb98-29305a9b56dc"
      },
      "execution_count": null,
      "outputs": [
        {
          "output_type": "stream",
          "name": "stdout",
          "text": [
            "\n",
            "Core composition:  {'Fe': np.float64(100.0), 'Si': np.float64(0.0), 'O': np.float64(0.0), 'S': np.float64(0.0)}\n",
            "Mantle composition:  {'FeO': np.float64(0.0), 'SiO2': np.float64(52.55497015), 'MgO': np.float64(39.17101638), 'CaO': np.float64(3.81493827), 'Al2O3': np.float64(4.45907521)}\n",
            "Mantle Fe# -0.0\n",
            "Core Mass Percent =  32.816\n",
            "\n",
            "Your closest grid filename is:  0.07CaMg_0.00FeMg_0.09AlMg_0.9SiMg_0.0NaMg_0.00Fe_U/LM_results.txt\n",
            "\n",
            "\n",
            "Core composition:  {'Fe': np.float64(100.0), 'Si': np.float64(0.0), 'O': np.float64(0.0), 'S': np.float64(0.0)}\n",
            "Mantle composition:  {'FeO': np.float64(0.0), 'SiO2': np.float64(52.55497015), 'MgO': np.float64(39.17101638), 'CaO': np.float64(3.81493827), 'Al2O3': np.float64(4.45907521)}\n",
            "Mantle Fe# -0.0\n",
            "Core Mass Percent =  32.816\n",
            "\n",
            "The Upper mantle .tab already exists, please wait briefly for solution\n",
            "\n",
            "../Solutions_Small/0.07CaMg_0.00FeMg_0.09AlMg_0.9SiMg_0.0NaMg_0.00Fe\n",
            "The Lower mantle .tab already exists, please wait briefly for solution\n",
            "\n",
            "iteration # 1\n",
            "iteration # 2\n",
            "iteration # 3\n",
            "iteration # 4\n",
            "iteration # 5\n",
            "iteration # 6\n",
            "iteration # 7\n",
            "iteration # 8\n",
            "iteration # 9\n",
            "iteration # 10\n",
            "iteration # 11\n",
            "iteration # 12\n",
            "iteration # 13\n",
            "iteration # 14\n",
            "iteration # 15\n",
            "iteration # 16\n",
            "\n",
            "Mass =  1.660 Earth masses\n",
            "Radius =  1.152 Earth radii\n",
            "Core Mass Fraction =  32.95\n",
            "Core Radius Fraction =  52.39\n",
            "CMB Pressure =  227.10 GPa\n",
            "number of oceans: 0.00\n",
            "\n",
            "Detailed data file written to: high_wFEO_Radius_1.15.txt\n",
            "\n",
            "Figure(1200x1000)\n",
            "Radius =  1.152 Earth radii\n",
            "Core Radius Fraction =  52.39\n",
            "Detailed data file written to: high_wFEO_Radius_1.15.txt\n",
            "Core Mass Fraction =  32.95\n"
          ]
        }
      ]
    },
    {
      "cell_type": "code",
      "source": [
        "M = 1.66       # Planet mass [M_earth]\n",
        "R = 1.15       # Planet radius [R_earth]\n",
        "a = 0.0153     # Orbital distance [AU]\n",
        "L_star = 0.00436  # Stellar luminosity [L_sun]"
      ],
      "metadata": {
        "id": "3FR68s9T6yrD"
      },
      "execution_count": null,
      "outputs": []
    },
    {
      "cell_type": "code",
      "source": [
        "import numpy as np\n",
        "\n",
        "# Earth mean density [g/cm^3]\n",
        "rho_earth = 5.514\n",
        "\n",
        "# Bulk density [g/cm^3]\n",
        "rho = (M / R**3) * rho_earth\n",
        "\n",
        "# Incident flux relative to Earth\n",
        "flux = L_star / a**2\n",
        "\n",
        "# Equilibrium temperature for albedo A = 0.3\n",
        "A = 0.3\n",
        "T_eq = 278.5 * (flux * (1 - A))**0.25\n",
        "\n",
        "print(f\"Bulk density: {rho:.2f} g/cm^3\")\n",
        "print(f\"Incident flux: {flux:.2f} × Earth flux\")\n",
        "print(f\"Equilibrium temperature (A={A}): {T_eq:.0f} K\")"
      ],
      "metadata": {
        "colab": {
          "base_uri": "https://localhost:8080/"
        },
        "id": "XCEeHuvv7kPV",
        "outputId": "eaac06f8-bef7-40c2-fae4-a8c97bcaeeb1"
      },
      "execution_count": null,
      "outputs": [
        {
          "output_type": "stream",
          "name": "stdout",
          "text": [
            "Bulk density: 6.02 g/cm^3\n",
            "Incident flux: 18.63 × Earth flux\n",
            "Equilibrium temperature (A=0.3): 529 K\n"
          ]
        }
      ]
    },
    {
      "cell_type": "markdown",
      "source": [
        "Thus, we can see GJ 1132 b's size is placed into a density framework which confirms that it is in fact rocky.\n",
        "\n",
        "Seeing this bulk density we can confirm it is rocky.\n",
        "\n",
        "Incident flux confirms a very irradiated environment.\n",
        "\n",
        "the Bond albedo shows the planet's thermal environment."
      ],
      "metadata": {
        "id": "rfsDuio27_p2"
      }
    },
    {
      "cell_type": "code",
      "source": [
        "# Analytic mass–radius and density for M_nom ± σ\n",
        "\n",
        "import numpy as np\n",
        "import pandas as pd\n",
        "\n",
        "# Masses: 1.66 ± 0.23 M⊕\n",
        "masses = np.array([1.66 - 0.23, 1.66, 1.66 + 0.23])\n",
        "# Chen & Kipping exponent for rocky planets\n",
        "exponent = 0.279\n",
        "\n",
        "# Predict radii\n",
        "radii = masses**exponent  # in R_earth\n",
        "\n",
        "# Compute densities (g/cm^3), scaling from Earth\n",
        "rho_earth = 5.514\n",
        "densities = (masses / radii**3) * rho_earth\n",
        "\n",
        "# Build a DataFrame for clarity\n",
        "df = pd.DataFrame({\n",
        "    'Mass (M⊕)': masses,\n",
        "    'Radius (R⊕)': radii,\n",
        "    'Density (g/cm³)': densities\n",
        "})\n",
        "\n",
        "print(df)"
      ],
      "metadata": {
        "colab": {
          "base_uri": "https://localhost:8080/"
        },
        "id": "DN1rPGlV7nKZ",
        "outputId": "c2171794-4e29-4acc-fe2c-65ebdbb4df19"
      },
      "execution_count": null,
      "outputs": [
        {
          "output_type": "stream",
          "name": "stdout",
          "text": [
            "   Mass (M⊕)  Radius (R⊕)  Density (g/cm³)\n",
            "0       1.43     1.104940         5.845027\n",
            "1       1.66     1.151888         5.988863\n",
            "2       1.89     1.194353         6.116881\n"
          ]
        }
      ]
    },
    {
      "cell_type": "code",
      "source": [
        "import subprocess\n",
        "import re\n",
        "\n",
        "# Observed planet properties\n",
        "mass_obs = 1.66    # M_earth\n",
        "target_R = 1.13    # R_earth\n",
        "R_obs = 1.13\n",
        "# Host‐star ratio\n",
        "SiMg_star = 0.9"
      ],
      "metadata": {
        "id": "nTqr_ua4NOs_"
      },
      "execution_count": null,
      "outputs": []
    },
    {
      "cell_type": "code",
      "source": [
        "#Quick 2×2×2 Sweep of Interior Parameters\n",
        "import subprocess, re, pandas as pd\n",
        "\n",
        "mass_obs = 1.66\n",
        "R_obs    = 1.13\n",
        "SiMg_star = 0.9\n",
        "\n",
        "FeMg_vals    = [0.90, 1.00]\n",
        "FeO_vals     = [0.00, 0.01]\n",
        "Si_core_vals = [0.00, 0.01]\n",
        "\n",
        "records = []\n",
        "for femg in FeMg_vals:\n",
        "    for feo in FeO_vals:\n",
        "        for sico in Si_core_vals:\n",
        "            out = subprocess.run(\n",
        "                ['python', 'Group_10.py',\n",
        "                 f'--mass={mass_obs}',\n",
        "                 f'--FeMg={femg:.2f}',\n",
        "                 f'--mol_frac_Fe_mantle={feo:.2f}',\n",
        "                 f'--wt_frac_Si_core={sico:.2f}',\n",
        "                 f'--SiMg={SiMg_star:.2f}'],\n",
        "                stdout=subprocess.PIPE, stderr=subprocess.STDOUT, text=True\n",
        "            ).stdout\n",
        "            m = re.search(r'Radius\\s*=\\s*([0-9]+\\.[0-9]+)', out)\n",
        "            R_rocky = float(m.group(1)) if m else float('nan')\n",
        "            h_atm = max(0.0, R_obs - R_rocky)\n",
        "            records.append({\n",
        "                'FeMg': femg, 'FeO_mantle': feo, 'Si_core': sico,\n",
        "                'R_rocky': R_rocky, 'h_atm': h_atm\n",
        "            })\n",
        "\n",
        "df = pd.DataFrame(records)\n",
        "df.to_csv('structure_quick.csv', index=False)\n",
        "print(df)"
      ],
      "metadata": {
        "colab": {
          "base_uri": "https://localhost:8080/"
        },
        "id": "5c3gB5UvblUg",
        "outputId": "c192e73c-6a21-4cef-df06-48fb2391aaac"
      },
      "execution_count": 71,
      "outputs": [
        {
          "output_type": "stream",
          "name": "stdout",
          "text": [
            "   FeMg  FeO_mantle  Si_core  R_rocky  h_atm\n",
            "0   0.9        0.00     0.00    1.152    0.0\n",
            "1   0.9        0.00     0.01    1.153    0.0\n",
            "2   0.9        0.01     0.00    1.153    0.0\n",
            "3   0.9        0.01     0.01    1.153    0.0\n",
            "4   1.0        0.00     0.00    1.145    0.0\n",
            "5   1.0        0.00     0.01    1.146    0.0\n",
            "6   1.0        0.01     0.00    1.146    0.0\n",
            "7   1.0        0.01     0.01    1.146    0.0\n"
          ]
        }
      ]
    },
    {
      "cell_type": "code",
      "source": [
        "# summarize Valid Models\n",
        "import pandas as pd\n",
        "\n",
        "df = pd.read_csv('structure_quick.csv')\n",
        "valid = df[df['h_atm'] >= 0]\n",
        "\n",
        "print(\"Valid models:\")\n",
        "print(valid)\n",
        "\n",
        "if not valid.empty:\n",
        "    print(\"\\nRanges:\")\n",
        "    print(\"FeMg:\", valid['FeMg'].min(), \"to\", valid['FeMg'].max())\n",
        "    print(\"FeO:\", valid['FeO_mantle'].min(), \"to\", valid['FeO_mantle'].max())\n",
        "    print(\"Si_core:\", valid['Si_core'].min(), \"to\", valid['Si_core'].max())\n",
        "    print(\"Atmos:\", valid['h_atm'].min(), \"to\", valid['h_atm'].max())"
      ],
      "metadata": {
        "colab": {
          "base_uri": "https://localhost:8080/"
        },
        "id": "BIVrZQ1bbsQR",
        "outputId": "d80d8661-942b-4dab-eb43-3da4f41da851"
      },
      "execution_count": 72,
      "outputs": [
        {
          "output_type": "stream",
          "name": "stdout",
          "text": [
            "Valid models:\n",
            "   FeMg  FeO_mantle  Si_core  R_rocky  h_atm\n",
            "0   0.9        0.00     0.00    1.152    0.0\n",
            "1   0.9        0.00     0.01    1.153    0.0\n",
            "2   0.9        0.01     0.00    1.153    0.0\n",
            "3   0.9        0.01     0.01    1.153    0.0\n",
            "4   1.0        0.00     0.00    1.145    0.0\n",
            "5   1.0        0.00     0.01    1.146    0.0\n",
            "6   1.0        0.01     0.00    1.146    0.0\n",
            "7   1.0        0.01     0.01    1.146    0.0\n",
            "\n",
            "Ranges:\n",
            "FeMg: 0.9 to 1.0\n",
            "FeO: 0.0 to 0.01\n",
            "Si_core: 0.0 to 0.01\n",
            "Atmos: 0.0 to 0.0\n"
          ]
        }
      ]
    },
    {
      "cell_type": "markdown",
      "source": [
        "These ranges are the interior parameters that explain GJ 1132 b's properties.\n",
        "\n",
        "\n",
        "We see\n",
        "\n",
        "Bulk Fe/Mg : 0.90 - 1.00\n",
        "Mantle FeO : 0.00 - 0.01 (basically no Fe in silicate)\n",
        "Core Si : 0.00 - 0.01\n",
        "Atmosphere Thickness : 0 (i.e. no atmosphere is needed, the rocky model alr. meets the observed radius.)\n",
        "\n",
        "Basically, a nearly solar Fe/Mg of 0.9-1.0, with almost all Fe in the core and negligible lighter elements in core/mantle shows a Coremass fraction of 33% and precisely matches the mass and radius."
      ],
      "metadata": {
        "id": "NJlKD8ysdfZv"
      }
    },
    {
      "cell_type": "markdown",
      "source": [
        "Comparing with Earth\n",
        "\n",
        "\n",
        "Earth's mantle has compositions:\n",
        "\n",
        "SiO2 : 45%\n",
        "MgO : 38%\n",
        "FeO : 8%\n",
        "CaO : 3.7%\n",
        "Al2O3 : 4.8%\n",
        "\n",
        "Our exoplex models for the planet GJ 1132 b predict:\n",
        "\n",
        "SiO2 : 52.6%\n",
        "MgO : 39.2 %\n",
        "FeO: 0%\n",
        "CaO : 3.8 %\n",
        "Al2O3 : 4.5 %\n",
        "\n",
        "Since I set mantle FeO to be essentially 0, saying Fe is in the core, GJ 1132b's silicate mantle is much more Mg and Si rich and iron poor than Earth."
      ],
      "metadata": {
        "id": "PczNM21weQQK"
      }
    }
  ],
  "metadata": {
    "colab": {
      "provenance": [],
      "include_colab_link": true
    },
    "kernelspec": {
      "display_name": "Python 3",
      "name": "python3"
    },
    "language_info": {
      "name": "python"
    }
  },
  "nbformat": 4,
  "nbformat_minor": 0
}