{
  "nbformat": 4,
  "nbformat_minor": 0,
  "metadata": {
    "colab": {
      "provenance": [],
      "authorship_tag": "ABX9TyOCNo2L5XjQrpuNUNCroHCJ",
      "include_colab_link": true
    },
    "kernelspec": {
      "name": "python3",
      "display_name": "Python 3"
    },
    "language_info": {
      "name": "python"
    }
  },
  "cells": [
    {
      "cell_type": "markdown",
      "metadata": {
        "id": "view-in-github",
        "colab_type": "text"
      },
      "source": [
        "<a href=\"https://colab.research.google.com/github/blakesodikoff/EarthScience5205/blob/main/March20_Inclass_Practice.ipynb\" target=\"_parent\"><img src=\"https://colab.research.google.com/assets/colab-badge.svg\" alt=\"Open In Colab\"/></a>"
      ]
    },
    {
      "cell_type": "code",
      "execution_count": 3,
      "metadata": {
        "id": "ln6zvzhPlLCs"
      },
      "outputs": [],
      "source": [
        "import numpy as np\n",
        "import astropy.constants as ac\n",
        "import astropy.units as u"
      ]
    },
    {
      "cell_type": "code",
      "source": [
        "r_out = 1 * u.earthRad\n",
        "r_in = 0.5 * u.earthRad\n",
        "rho_mantle = 5.0 * u.g / u.cm**3\n",
        "rho_core = 13 * u.g / u.cm**3"
      ],
      "metadata": {
        "id": "r5Ei2JBslWQs"
      },
      "execution_count": 7,
      "outputs": []
    },
    {
      "cell_type": "code",
      "source": [
        "term_one = 4 * np.pi / 3 * r_in**3 * (rho_core - rho_mantle) * (1 / r_in - 1 / r_out)"
      ],
      "metadata": {
        "id": "7PENNkb2mP7S"
      },
      "execution_count": 9,
      "outputs": []
    },
    {
      "cell_type": "code",
      "source": [
        "term_two = 4 * np.pi / 3 * rho_mantle / 2 * (r_out**2 - r_in**2)"
      ],
      "metadata": {
        "id": "2vCoUa0m6eZ3"
      },
      "execution_count": 10,
      "outputs": []
    },
    {
      "cell_type": "code",
      "source": [
        "P_CMB = rho_mantle * ac.G * (term_one + term_two)\n"
      ],
      "metadata": {
        "id": "GfdsLa_264qV"
      },
      "execution_count": 11,
      "outputs": []
    },
    {
      "cell_type": "code",
      "source": [
        "print(\"CMB pressure in GPa:\", P_CMB.to(1e9 * u.pascal).value)"
      ],
      "metadata": {
        "colab": {
          "base_uri": "https://localhost:8080/"
        },
        "id": "bBLsKvAu67rM",
        "outputId": "abef9b5e-7736-49b6-a936-31758b59fba6"
      },
      "execution_count": 16,
      "outputs": [
        {
          "output_type": "stream",
          "name": "stdout",
          "text": [
            "CMB pressure in GPa: 163.4876060669441\n"
          ]
        }
      ]
    },
    {
      "cell_type": "code",
      "source": [
        "mu = 1 * ac.m_p\n",
        "T_CMB = P_CMB / rho_mantle * mu / ac.k_B\n",
        "\n",
        "print(\"CMB Temp. in K:\", T_CMB.to(u.K).value)"
      ],
      "metadata": {
        "colab": {
          "base_uri": "https://localhost:8080/"
        },
        "id": "yEa-1L2P6-C_",
        "outputId": "c0c44f76-6328-49d8-f721-952447737d2a"
      },
      "execution_count": 17,
      "outputs": [
        {
          "output_type": "stream",
          "name": "stdout",
          "text": [
            "CMB Temp. in K: 3961.2233689976956\n"
          ]
        }
      ]
    },
    {
      "cell_type": "code",
      "source": [
        "term_three = 4 * np.pi / 3 * rho_core / 2 * r_in**2\n",
        "P_core = P_CMB + rho_core * ac.G * term_three\n",
        "print(\"Core pressure in GPa:\", P_core.to(1e9 * u.pascal).value)"
      ],
      "metadata": {
        "colab": {
          "base_uri": "https://localhost:8080/"
        },
        "id": "eexGTTAi7ZRV",
        "outputId": "f2509cd8-14b2-4f59-f282-55180bd082cf"
      },
      "execution_count": 18,
      "outputs": [
        {
          "output_type": "stream",
          "name": "stdout",
          "text": [
            "Core pressure in GPa: 403.7433054174968\n"
          ]
        }
      ]
    },
    {
      "cell_type": "code",
      "source": [
        "rho_core_new = 10 * u.g / u.cm**3\n",
        "T_core = P_core / rho_core_new * mu / ac.k_B\n",
        "print(\"Core Temp. in K:\", T_core.to(u.K).value)"
      ],
      "metadata": {
        "colab": {
          "base_uri": "https://localhost:8080/"
        },
        "id": "TgmOV4Vg7ln2",
        "outputId": "6ceb3319-a4ba-4f6b-c27e-cb0564314948"
      },
      "execution_count": 20,
      "outputs": [
        {
          "output_type": "stream",
          "name": "stdout",
          "text": [
            "Core Temp. in K: 4891.2497251971545\n"
          ]
        }
      ]
    },
    {
      "cell_type": "code",
      "source": [
        "gamma = 2.0\n",
        "\n",
        "T_core = ((P_CMB**(1-gamma) * T_CMB**gamma) / (P_core**(1-gamma)))**(1/gamma)\n",
        "print(\"Core Temp. in K:\", T_core.to(u.K).value)"
      ],
      "metadata": {
        "colab": {
          "base_uri": "https://localhost:8080/"
        },
        "id": "uTtW1__p7v0b",
        "outputId": "9acc101d-3abe-429c-f157-826ea8e09f03"
      },
      "execution_count": 28,
      "outputs": [
        {
          "output_type": "stream",
          "name": "stdout",
          "text": [
            "Core Temp. in K: 6225.00324739747\n"
          ]
        }
      ]
    },
    {
      "cell_type": "code",
      "source": [],
      "metadata": {
        "id": "7RNq_tqd8UEo"
      },
      "execution_count": null,
      "outputs": []
    }
  ]
}