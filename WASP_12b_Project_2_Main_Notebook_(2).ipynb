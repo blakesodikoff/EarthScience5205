{
  "cells": [
    {
      "cell_type": "markdown",
      "metadata": {
        "id": "view-in-github",
        "colab_type": "text"
      },
      "source": [
        "<a href=\"https://colab.research.google.com/github/blakesodikoff/EarthScience5205/blob/main/WASP_12b_Project_2_Main_Notebook_(2).ipynb\" target=\"_parent\"><img src=\"https://colab.research.google.com/assets/colab-badge.svg\" alt=\"Open In Colab\"/></a>"
      ]
    },
    {
      "cell_type": "code",
      "execution_count": 1,
      "metadata": {
        "id": "atz4gI9_9Hou"
      },
      "outputs": [],
      "source": [
        "import numpy as np\n",
        "import pandas as pd\n",
        "import matplotlib.pyplot as plt\n",
        "from scipy.optimize import curve_fit"
      ]
    },
    {
      "cell_type": "code",
      "execution_count": 2,
      "metadata": {
        "colab": {
          "base_uri": "https://localhost:8080/",
          "height": 420
        },
        "id": "rOnU0Apb9Hox",
        "outputId": "2f78c5ab-321e-4a93-9969-c2540c46404c"
      },
      "outputs": [
        {
          "output_type": "stream",
          "name": "stderr",
          "text": [
            "<ipython-input-2-d7fbb4f1aca8>:7: FutureWarning: The 'delim_whitespace' keyword in pd.read_csv is deprecated and will be removed in a future version. Use ``sep='\\s+'`` instead\n",
            "  data = pd.read_csv(\"UID_0300068_RVC_002.tbl.txt\",\n"
          ]
        },
        {
          "output_type": "error",
          "ename": "FileNotFoundError",
          "evalue": "[Errno 2] No such file or directory: 'UID_0300068_RVC_002.tbl.txt'",
          "traceback": [
            "\u001b[0;31m---------------------------------------------------------------------------\u001b[0m",
            "\u001b[0;31mFileNotFoundError\u001b[0m                         Traceback (most recent call last)",
            "\u001b[0;32m<ipython-input-2-d7fbb4f1aca8>\u001b[0m in \u001b[0;36m<cell line: 0>\u001b[0;34m()\u001b[0m\n\u001b[1;32m      5\u001b[0m \u001b[0;34m\u001b[0m\u001b[0m\n\u001b[1;32m      6\u001b[0m \u001b[0mcol_names\u001b[0m \u001b[0;34m=\u001b[0m \u001b[0;34m[\u001b[0m\u001b[0;34m\"HJD\"\u001b[0m\u001b[0;34m,\u001b[0m \u001b[0;34m\"RV\"\u001b[0m\u001b[0;34m,\u001b[0m \u001b[0;34m\"RV_err\"\u001b[0m\u001b[0;34m]\u001b[0m\u001b[0;34m\u001b[0m\u001b[0;34m\u001b[0m\u001b[0m\n\u001b[0;32m----> 7\u001b[0;31m data = pd.read_csv(\"UID_0300068_RVC_002.tbl.txt\", \n\u001b[0m\u001b[1;32m      8\u001b[0m                        delim_whitespace=True, skiprows=21, names=col_names)\n",
            "\u001b[0;32m/usr/local/lib/python3.11/dist-packages/pandas/io/parsers/readers.py\u001b[0m in \u001b[0;36mread_csv\u001b[0;34m(filepath_or_buffer, sep, delimiter, header, names, index_col, usecols, dtype, engine, converters, true_values, false_values, skipinitialspace, skiprows, skipfooter, nrows, na_values, keep_default_na, na_filter, verbose, skip_blank_lines, parse_dates, infer_datetime_format, keep_date_col, date_parser, date_format, dayfirst, cache_dates, iterator, chunksize, compression, thousands, decimal, lineterminator, quotechar, quoting, doublequote, escapechar, comment, encoding, encoding_errors, dialect, on_bad_lines, delim_whitespace, low_memory, memory_map, float_precision, storage_options, dtype_backend)\u001b[0m\n\u001b[1;32m   1024\u001b[0m     \u001b[0mkwds\u001b[0m\u001b[0;34m.\u001b[0m\u001b[0mupdate\u001b[0m\u001b[0;34m(\u001b[0m\u001b[0mkwds_defaults\u001b[0m\u001b[0;34m)\u001b[0m\u001b[0;34m\u001b[0m\u001b[0;34m\u001b[0m\u001b[0m\n\u001b[1;32m   1025\u001b[0m \u001b[0;34m\u001b[0m\u001b[0m\n\u001b[0;32m-> 1026\u001b[0;31m     \u001b[0;32mreturn\u001b[0m \u001b[0m_read\u001b[0m\u001b[0;34m(\u001b[0m\u001b[0mfilepath_or_buffer\u001b[0m\u001b[0;34m,\u001b[0m \u001b[0mkwds\u001b[0m\u001b[0;34m)\u001b[0m\u001b[0;34m\u001b[0m\u001b[0;34m\u001b[0m\u001b[0m\n\u001b[0m\u001b[1;32m   1027\u001b[0m \u001b[0;34m\u001b[0m\u001b[0m\n\u001b[1;32m   1028\u001b[0m \u001b[0;34m\u001b[0m\u001b[0m\n",
            "\u001b[0;32m/usr/local/lib/python3.11/dist-packages/pandas/io/parsers/readers.py\u001b[0m in \u001b[0;36m_read\u001b[0;34m(filepath_or_buffer, kwds)\u001b[0m\n\u001b[1;32m    618\u001b[0m \u001b[0;34m\u001b[0m\u001b[0m\n\u001b[1;32m    619\u001b[0m     \u001b[0;31m# Create the parser.\u001b[0m\u001b[0;34m\u001b[0m\u001b[0;34m\u001b[0m\u001b[0m\n\u001b[0;32m--> 620\u001b[0;31m     \u001b[0mparser\u001b[0m \u001b[0;34m=\u001b[0m \u001b[0mTextFileReader\u001b[0m\u001b[0;34m(\u001b[0m\u001b[0mfilepath_or_buffer\u001b[0m\u001b[0;34m,\u001b[0m \u001b[0;34m**\u001b[0m\u001b[0mkwds\u001b[0m\u001b[0;34m)\u001b[0m\u001b[0;34m\u001b[0m\u001b[0;34m\u001b[0m\u001b[0m\n\u001b[0m\u001b[1;32m    621\u001b[0m \u001b[0;34m\u001b[0m\u001b[0m\n\u001b[1;32m    622\u001b[0m     \u001b[0;32mif\u001b[0m \u001b[0mchunksize\u001b[0m \u001b[0;32mor\u001b[0m \u001b[0miterator\u001b[0m\u001b[0;34m:\u001b[0m\u001b[0;34m\u001b[0m\u001b[0;34m\u001b[0m\u001b[0m\n",
            "\u001b[0;32m/usr/local/lib/python3.11/dist-packages/pandas/io/parsers/readers.py\u001b[0m in \u001b[0;36m__init__\u001b[0;34m(self, f, engine, **kwds)\u001b[0m\n\u001b[1;32m   1618\u001b[0m \u001b[0;34m\u001b[0m\u001b[0m\n\u001b[1;32m   1619\u001b[0m         \u001b[0mself\u001b[0m\u001b[0;34m.\u001b[0m\u001b[0mhandles\u001b[0m\u001b[0;34m:\u001b[0m \u001b[0mIOHandles\u001b[0m \u001b[0;34m|\u001b[0m \u001b[0;32mNone\u001b[0m \u001b[0;34m=\u001b[0m \u001b[0;32mNone\u001b[0m\u001b[0;34m\u001b[0m\u001b[0;34m\u001b[0m\u001b[0m\n\u001b[0;32m-> 1620\u001b[0;31m         \u001b[0mself\u001b[0m\u001b[0;34m.\u001b[0m\u001b[0m_engine\u001b[0m \u001b[0;34m=\u001b[0m \u001b[0mself\u001b[0m\u001b[0;34m.\u001b[0m\u001b[0m_make_engine\u001b[0m\u001b[0;34m(\u001b[0m\u001b[0mf\u001b[0m\u001b[0;34m,\u001b[0m \u001b[0mself\u001b[0m\u001b[0;34m.\u001b[0m\u001b[0mengine\u001b[0m\u001b[0;34m)\u001b[0m\u001b[0;34m\u001b[0m\u001b[0;34m\u001b[0m\u001b[0m\n\u001b[0m\u001b[1;32m   1621\u001b[0m \u001b[0;34m\u001b[0m\u001b[0m\n\u001b[1;32m   1622\u001b[0m     \u001b[0;32mdef\u001b[0m \u001b[0mclose\u001b[0m\u001b[0;34m(\u001b[0m\u001b[0mself\u001b[0m\u001b[0;34m)\u001b[0m \u001b[0;34m->\u001b[0m \u001b[0;32mNone\u001b[0m\u001b[0;34m:\u001b[0m\u001b[0;34m\u001b[0m\u001b[0;34m\u001b[0m\u001b[0m\n",
            "\u001b[0;32m/usr/local/lib/python3.11/dist-packages/pandas/io/parsers/readers.py\u001b[0m in \u001b[0;36m_make_engine\u001b[0;34m(self, f, engine)\u001b[0m\n\u001b[1;32m   1878\u001b[0m                 \u001b[0;32mif\u001b[0m \u001b[0;34m\"b\"\u001b[0m \u001b[0;32mnot\u001b[0m \u001b[0;32min\u001b[0m \u001b[0mmode\u001b[0m\u001b[0;34m:\u001b[0m\u001b[0;34m\u001b[0m\u001b[0;34m\u001b[0m\u001b[0m\n\u001b[1;32m   1879\u001b[0m                     \u001b[0mmode\u001b[0m \u001b[0;34m+=\u001b[0m \u001b[0;34m\"b\"\u001b[0m\u001b[0;34m\u001b[0m\u001b[0;34m\u001b[0m\u001b[0m\n\u001b[0;32m-> 1880\u001b[0;31m             self.handles = get_handle(\n\u001b[0m\u001b[1;32m   1881\u001b[0m                 \u001b[0mf\u001b[0m\u001b[0;34m,\u001b[0m\u001b[0;34m\u001b[0m\u001b[0;34m\u001b[0m\u001b[0m\n\u001b[1;32m   1882\u001b[0m                 \u001b[0mmode\u001b[0m\u001b[0;34m,\u001b[0m\u001b[0;34m\u001b[0m\u001b[0;34m\u001b[0m\u001b[0m\n",
            "\u001b[0;32m/usr/local/lib/python3.11/dist-packages/pandas/io/common.py\u001b[0m in \u001b[0;36mget_handle\u001b[0;34m(path_or_buf, mode, encoding, compression, memory_map, is_text, errors, storage_options)\u001b[0m\n\u001b[1;32m    871\u001b[0m         \u001b[0;32mif\u001b[0m \u001b[0mioargs\u001b[0m\u001b[0;34m.\u001b[0m\u001b[0mencoding\u001b[0m \u001b[0;32mand\u001b[0m \u001b[0;34m\"b\"\u001b[0m \u001b[0;32mnot\u001b[0m \u001b[0;32min\u001b[0m \u001b[0mioargs\u001b[0m\u001b[0;34m.\u001b[0m\u001b[0mmode\u001b[0m\u001b[0;34m:\u001b[0m\u001b[0;34m\u001b[0m\u001b[0;34m\u001b[0m\u001b[0m\n\u001b[1;32m    872\u001b[0m             \u001b[0;31m# Encoding\u001b[0m\u001b[0;34m\u001b[0m\u001b[0;34m\u001b[0m\u001b[0m\n\u001b[0;32m--> 873\u001b[0;31m             handle = open(\n\u001b[0m\u001b[1;32m    874\u001b[0m                 \u001b[0mhandle\u001b[0m\u001b[0;34m,\u001b[0m\u001b[0;34m\u001b[0m\u001b[0;34m\u001b[0m\u001b[0m\n\u001b[1;32m    875\u001b[0m                 \u001b[0mioargs\u001b[0m\u001b[0;34m.\u001b[0m\u001b[0mmode\u001b[0m\u001b[0;34m,\u001b[0m\u001b[0;34m\u001b[0m\u001b[0;34m\u001b[0m\u001b[0m\n",
            "\u001b[0;31mFileNotFoundError\u001b[0m: [Errno 2] No such file or directory: 'UID_0300068_RVC_002.tbl.txt'"
          ]
        }
      ],
      "source": [
        "# Define the RV model which is a sine wave w/ fixed period for WASP12b\n",
        "def rv_model(t, gamma, K, phase):\n",
        "    P = 1.09142  # days\n",
        "    return gamma + K * np.sin(2 * np.pi * (t - t[0]) / P + phase)\n",
        "\n",
        "col_names = [\"HJD\", \"RV\", \"RV_err\"]\n",
        "data = pd.read_csv(\"UID_0300068_RVC_002.tbl.txt\",\n",
        "                       delim_whitespace=True, skiprows=21, names=col_names)"
      ]
    },
    {
      "cell_type": "code",
      "execution_count": null,
      "metadata": {
        "scrolled": true,
        "id": "LS6rGvGl9Hoy"
      },
      "outputs": [],
      "source": [
        "# t0 is the min value in the HJD column. We use this to put the entire column into scale\n",
        "\n",
        "# now we call data[time] the data column minus the min value to show deviation from the time we call 0.\n",
        "\n",
        "# t0 is just the beginning of the cycle we're looking at\n",
        "\n",
        "t0 = data[\"HJD\"].min()\n",
        "data[\"time\"] = data[\"HJD\"] - t0  # now time starts at 0\n",
        "\n",
        "# only wanna focus on the first 100 days after observation so this\n",
        "# lets us only look at data less than or equal to 100 days\n",
        "\n",
        "# also this creates a copy of the original set of data into a new subset for data\n",
        "\n",
        "data = data[data[\"time\"] <= 100].copy()"
      ]
    },
    {
      "cell_type": "code",
      "execution_count": null,
      "metadata": {
        "id": "g3XqePwl9Hoy"
      },
      "outputs": [],
      "source": [
        "# mean of RV is systemic velocity, or the vel of star w.o influence ( basically its motion rel. to us)\n",
        "\n",
        "# take guess of 200 for K and 0 for phase offset, basically lets us control the sine wave's starting point\n",
        "\n",
        "initial_guess = [data[\"RV\"].mean(), 200, 0]\n",
        "\n",
        "# curve_fit let's us fit the parameters of the rv model to match the observed data\n",
        "\n",
        "# call shifted time values from before the x axis and the rv measurements the y axis\n",
        "\n",
        "# RV_err gives uncertainties given in the data\n",
        "\n",
        "# p0 is the initial starting parameters from the initial guess\n",
        "\n",
        "# popt is the optimized parameters for gamma, K, and phase of sinwave\n",
        "\n",
        "# pcov is the covariance matrix\n",
        "# this contains the uncertainties for each of these parameters\n",
        "\n",
        "popt, pcov = curve_fit(\n",
        "rv_model,\n",
        "data[\"time\"],\n",
        "data[\"RV\"],\n",
        "sigma=data[\"RV_err\"],\n",
        "p0=initial_guess,\n",
        "absolute_sigma=True)\n",
        "\n",
        "# here we can unpack the optimized parameters from the popt into individual variables\n",
        "\n",
        "# gamma fit is the fitted systemic velocity\n",
        "\n",
        "# K fit is the fitted semi ampl. of RV variation\n",
        "\n",
        "gamma_fit, K_fit, phase_fit = popt\n",
        "\n",
        "# I kept having an issue with planet mass resulting as negative so obviously there was an issue there\n",
        "\n",
        "# I figured since K can be both positive and negative (i.e. ampl. above 0 or below 0) I should define\n",
        "\n",
        "# --> K as positive with this if statement keeping K positive\n",
        "\n",
        "if K_fit < 0:\n",
        "     K_fit = -K_fit\n",
        "phase_fit += np.pi\n",
        "\n",
        "# This takes the uncertainties for each of the parameters\n",
        "\n",
        "# in the covariance matrix the diagonal figures are the variance for each parameter\n",
        "\n",
        "# sqrt of this gives stndard error for each parameter\n",
        "\n",
        "gamma_err, K_err, phase_err = np.sqrt(np.diag(pcov))\n",
        "\n",
        "# this makes an array of 1000 even spaced time values from 0 to max\n",
        "# this is to create a smoother curve when plotting the model (this was very helpful when I was struggling with the model)\n",
        "t_fit = np.linspace(0, data[\"time\"].max(), 1000)\n",
        "\n",
        "# calculate model RV at each time in t fit with the optimal parameters\n",
        "\n",
        "# this lets me overlay fitted model on the data plot\n",
        "\n",
        "rv_fit = rv_model(t_fit, gamma_fit, K_fit, phase_fit)"
      ]
    },
    {
      "cell_type": "code",
      "execution_count": null,
      "metadata": {
        "id": "k-su50Lu9Hoz"
      },
      "outputs": [],
      "source": [
        "# this cell here is very important for the RV graph\n",
        "\n",
        "\n",
        "# Our data for WASP was clustered close to observation and didn't really\n",
        "# provide great opportunity to match a model, so I used the method we discussed in class on tuesday\n",
        "# considering uncertainty I used the following to simulate data points within boundaries of uncertainty to\n",
        "# extend data points and match a sin model\n",
        "\n",
        "# this line creates an array of 50 even spaced time points from 0 to 10 days. 10 days is what I was shooting for on the graph\n",
        "synthetic_times = np.linspace(0, 10, 50)\n",
        "\n",
        "# this uses the rv model defined before with the best fit parameters to find synthetic \"true\" RV values at each synthetic time point\n",
        "model_rv = rv_model(synthetic_times, gamma_fit, K_fit, phase_fit)\n",
        "\n",
        "# this finds an accurate uncertainty by taking a median of the RV errors from data. This is to simulate realistic noise/varying conditions leading to error\n",
        "typical_sigma = np.median(data[\"RV_err\"])\n",
        "\n",
        "\n",
        "# set the random seed so consistently we see the same random noise generated\n",
        "# the goal here is to ensure reproducibility and not total randomness\n",
        "np.random.seed(42)\n",
        "\n",
        "# add additional random noise (gaussian noise with mean 0 and std dev equal to typical sigma)\n",
        "# to model RV values to create synthetic measurements mimicing real data\n",
        "synthetic_rv = model_rv + np.random.normal(loc=0.0, scale=typical_sigma, size=len(model_rv))\n",
        "\n",
        "\n",
        "#finally this one makes an array of the same shape as synth RV where every element set to typic sigma\n",
        "# this is to represent sim. uncertainty at each synthetic data point\n",
        "synthetic_err = np.full_like(synthetic_rv, typical_sigma)"
      ]
    },
    {
      "cell_type": "code",
      "execution_count": null,
      "metadata": {
        "id": "8DC0UBbn9Hoz"
      },
      "outputs": [],
      "source": [
        "# this graph focuses on just around 1 day after observation to show observation's consistency with the model\n",
        "plt.figure(figsize=(9, 5))\n",
        "\n",
        "# this plots the actual RV data while subtracting the systemic vel. so we can center it around 0\n",
        "\n",
        "plt.errorbar(data[\"time\"], data[\"RV\"] - gamma_fit,\n",
        "                yerr=data[\"RV_err\"], fmt='k.', label=\"Real Data (shifted)\")\n",
        "\n",
        "# this overlays the synthetic data simulated by considering uncertainties to match the model\n",
        "\n",
        "plt.errorbar(synthetic_times, synthetic_rv - gamma_fit,\n",
        "                yerr=synthetic_err, fmt='gd', label=\"Synthetic Data\")\n",
        "\n",
        "# takes the time array from 0 to 10 days with 500 points\n",
        "\n",
        "fine_t = np.linspace(0, 10, 500)\n",
        "\n",
        "# takes the fitted rv model at these times with the best fit parameters\n",
        "\n",
        "fine_rv = rv_model(fine_t, gamma_fit, K_fit, phase_fit)\n",
        "\n",
        "# plot this noise free model with the gray line\n",
        "\n",
        "plt.plot(fine_t, fine_rv - gamma_fit, color='gray', label=\"Model (no noise)\")\n",
        "\n",
        "plt.xlabel(\"Time (days) since first observation\")\n",
        "plt.xlim(0,1)\n",
        "plt.ylabel(\"Radial Velocity (m/s) [centered on γ]\")\n",
        "plt.title(\"WASP-12b: Synthetic Extended RV Data (0-10 days)\")\n",
        "plt.legend()\n",
        "plt.tight_layout()\n",
        "plt.savefig(\"WASP12b_synthetic_0to10days.png\")\n",
        "plt.show()"
      ]
    },
    {
      "cell_type": "code",
      "execution_count": null,
      "metadata": {
        "scrolled": true,
        "id": "thj3Ygg39Ho0"
      },
      "outputs": [],
      "source": [
        "# this graph extends the model to about 10 days since observation with the simulated data\n",
        "\n",
        "# overall this effort is to combat the limited data points in the RV file\n",
        "\n",
        "# maybe WASP 12 b wasn't the easiest choice\n",
        "\n",
        "plt.figure(figsize=(9, 5))\n",
        "\n",
        "\n",
        "plt.errorbar(data[\"time\"], data[\"RV\"] - gamma_fit,\n",
        "                yerr=data[\"RV_err\"], fmt='k.', label=\"Real Data (shifted)\")\n",
        "\n",
        "plt.errorbar(synthetic_times, synthetic_rv - gamma_fit,\n",
        "                yerr=synthetic_err, fmt='gd', label=\"Synthetic Data\")\n",
        "\n",
        "fine_t = np.linspace(0, 10, 500)\n",
        "fine_rv = rv_model(fine_t, gamma_fit, K_fit, phase_fit)\n",
        "plt.plot(fine_t, fine_rv - gamma_fit, color='gray', label=\"Model (no noise)\")\n",
        "\n",
        "    # Set axis labels and title\n",
        "plt.xlabel(\"Time (days) since first observation\")\n",
        "plt.xlim(0,10)\n",
        "plt.ylabel(\"Radial Velocity (m/s) [centered on γ]\")\n",
        "plt.title(\"WASP-12b: Synthetic Extended RV Data (0-10 days)\")\n",
        "plt.legend()\n",
        "plt.tight_layout()\n",
        "plt.savefig(\"WASP12b_synthetic_0to10days.png\")\n",
        "plt.show()"
      ]
    },
    {
      "cell_type": "code",
      "execution_count": null,
      "metadata": {
        "id": "yQ_MdxVN9Ho1"
      },
      "outputs": [],
      "source": [
        "# print the best fit value for systemic velocity (gamma) with uncertainty\n",
        "\n",
        "print(f\"Fitted gamma: {gamma_fit:.2f} ± {gamma_err:.2f} m/s\")\n",
        "\n",
        "# print best fit value for RV semi-amplitude (K) with uncertainty\n",
        "# reminder: K is what represents how the star's velocity changes due to the planet\n",
        "\n",
        "print(f\"Fitted K:     {K_fit:.2f} ± {K_err:.2f} m/s\")\n",
        "\n",
        "# print best-fit phase offset to find the sine wave's starting point again with uncertainty\n",
        "\n",
        "print(f\"Fitted phase: {phase_fit:.2f} ± {phase_err:.2f} rad\")"
      ]
    },
    {
      "cell_type": "code",
      "execution_count": null,
      "metadata": {
        "id": "OvwyWCRo9Ho1"
      },
      "outputs": [],
      "source": [
        "# Now compute the planet mass from the fitted semi-amplitude K.\n",
        "# For a circular orbit:\n",
        "# K = (2πG/P)^(1/3) * (M_p * sin i) / (M_star)^(2/3)\n",
        "# => M_p = K * (M_star^(2/3)) * (P/(2πG))^(1/3) / sin i\n",
        "# For transiting WASP‑12b, sin i ≃ 1.\n",
        "\n",
        "\n",
        "G = 6.67430e-11         # Gravitational constant (SI units)\n",
        "M_sun = 1.98847e30        # Solar mass in kg\n",
        "M_star = 1.35 * M_sun     # Estimated stellar mass for WASP‑12\n",
        "P_days = 1.09142          # Orbital period in days\n",
        "P_sec = P_days * 86400    # Convert period to seconds\n",
        "\n",
        "# formula taken from class and cross referenced (deriving M_p from K formula)\n",
        "M_p = K_fit * (M_star**(2/3)) * ((P_sec/(2 * np.pi * G))**(1/3))\n",
        "# Propagate the uncertainty from K only (assuming other parameters are known exactly)\n",
        "M_p_err = K_err * (M_star**(2/3)) * ((P_sec/(2 * np.pi * G))**(1/3))\n",
        "\n",
        "# Convert planet mass to Jupiter masses.\n",
        "M_jup = 1.89813e27       # Jupiter mass in kg\n",
        "M_p_jup = M_p / M_jup\n",
        "M_p_err_jup = M_p_err / M_jup\n",
        "\n",
        "# planet mass to two decimal places along with uncertainty\n",
        "# both in kg and Jupiter masses\n",
        "print(\"Derived planet mass:\")\n",
        "print(f\"  M_p = {M_p:.2e} ± {M_p_err:.2e} kg\")\n",
        "print(f\"  = {M_p_jup:.2f} ± {M_p_err_jup:.2f} Jupiter masses\")\n",
        "\n",
        "# actual value is appx 1.47 Jupiter masses, so just about within the uncertainty"
      ]
    },
    {
      "cell_type": "code",
      "execution_count": null,
      "metadata": {
        "id": "TJNKHj-f9Ho1"
      },
      "outputs": [],
      "source": [
        "# time for transit data! this is just to read in the file and skip over the annoying stuff at the beginning\n",
        "\n",
        "col_names = [\"HJD\", \"diff_mag\", \"diff_mag_err\", \"accepted\"]\n",
        "data = pd.read_csv(\n",
        "    \"UID_0300068_PLC_001.tbl.txt\",\n",
        "    delim_whitespace=True,\n",
        "    skiprows=143,\n",
        "    names=col_names\n",
        ")"
      ]
    },
    {
      "cell_type": "code",
      "execution_count": null,
      "metadata": {
        "id": "D7rym11B9Ho2"
      },
      "outputs": [],
      "source": [
        "# once again this is to create a new data subset with values equaling 1\n",
        "\n",
        "data = data[data[\"accepted\"] == 1].copy()"
      ]
    },
    {
      "cell_type": "code",
      "execution_count": null,
      "metadata": {
        "id": "zcg_-TJJ9Ho2"
      },
      "outputs": [],
      "source": [
        "# Convert differential magnitude to flux:\n",
        "#    formula is flux = 10^(-0.4 * diff_mag)\n",
        "# so that diff_mag = 0 => flux ~ 1\n",
        "data[\"flux\"] = 10**(-0.4 * data[\"diff_mag\"])"
      ]
    },
    {
      "cell_type": "code",
      "execution_count": null,
      "metadata": {
        "id": "6hV6teC79Ho2"
      },
      "outputs": [],
      "source": [
        "# Propagate error in diff_mag to flux error\n",
        "#   If F = 10^(-0.4*m), then dF = F * ln(10)*(-0.4) * dm\n",
        "ln10 = 2.302585093\n",
        "data[\"flux_err\"] = data[\"flux\"] * ln10 * (-0.4) * data[\"diff_mag_err\"]"
      ]
    },
    {
      "cell_type": "code",
      "execution_count": null,
      "metadata": {
        "id": "WRbv7vKk9Ho2"
      },
      "outputs": [],
      "source": [
        "# Orbital parameters given:\n",
        "P = 1.091047\n",
        "Tmid = 2454023.3311\n",
        "\n",
        "# Compute phase in [0,1)\n",
        "data[\"phase\"] = ((data[\"HJD\"] - Tmid) / P) % 1.0\n",
        "\n",
        "# Shift so that the transit center is at phase ~ 0\n",
        "data[\"phase_centered\"] = data[\"phase\"].apply(lambda ph: ph if ph < 0.5 else ph - 1.0)"
      ]
    },
    {
      "cell_type": "code",
      "execution_count": null,
      "metadata": {
        "id": "E8EkJK7o9Ho2"
      },
      "outputs": [],
      "source": [
        "# define the box model to overlay the data points to show dip in flux\n",
        "\n",
        "def box_transit_model(phase_array, depth=0.015, width=0.03):\n",
        "    flux = np.ones_like(phase_array)\n",
        "    in_transit = (np.abs(phase_array) < width/2)\n",
        "    flux[in_transit] = 1.0 - depth\n",
        "    return flux"
      ]
    },
    {
      "cell_type": "code",
      "execution_count": null,
      "metadata": {
        "id": "_7EicUUX9Ho2"
      },
      "outputs": [],
      "source": [
        "plt.figure(figsize=(8,5))\n",
        "\n",
        "# Sort by phase_centered so the line plot doesn't jump\n",
        "data_sorted = data.sort_values(\"phase_centered\")\n",
        "\n",
        "# Plot flux vs. phase\n",
        "plt.errorbar(data_sorted[\"phase_centered\"],\n",
        "             data_sorted[\"flux\"],\n",
        "             yerr=data_sorted[\"flux_err\"],\n",
        "             fmt='o',\n",
        "             ms=3,\n",
        "             alpha=0.5,\n",
        "             color='black',\n",
        "             ecolor='gray',\n",
        "             label=\"Data\")\n",
        "\n",
        "# Create a fine phase grid around +/-0.2\n",
        "phase_grid = np.linspace(-0.2, 0.2, 200)\n",
        "\n",
        "# Evaluate the box transit model\n",
        "model_flux = box_transit_model(phase_grid, depth=0.02, width=0.1)\n",
        "\n",
        "# Plot the model\n",
        " plt.plot(phase_grid, model_flux, 'r-', linewidth=3, label='Transit model')\n",
        "\n",
        "plt.xlabel(\"Phase (centered at transit)\")\n",
        "plt.xlim(-0.15,0.15)\n",
        "plt.ylim(0.92,1.08)\n",
        "plt.ylabel(\"Relative Flux\")\n",
        "plt.title(\"WASP-12b Transit Light Curve\")\n",
        "plt.legend()\n",
        "plt.tight_layout()\n",
        "plt.show()"
      ]
    },
    {
      "cell_type": "code",
      "execution_count": null,
      "metadata": {
        "id": "JpS7rvdX9Ho3"
      },
      "outputs": [],
      "source": [
        "# Define \"in-transit\" vs. \"out-of-transit\" by some phase cut\n",
        "\n",
        "# this is where I can show some actual numbers to show change in flux during / out of transit\n",
        "\n",
        "# this is called a Boolean mask it basically says true or false for each data point and selects the one where absolute phase is < .02\n",
        "# as well as the other one where the absolute phase is > 1 to show points that are far out of transit\n",
        "\n",
        "in_mask  = (data[\"phase_centered\"].abs() < 0.02)\n",
        "oot_mask = (data[\"phase_centered\"].abs() > 0.1)\n",
        "\n",
        "# uses those boolean masks for in/out transit to find the median value for flux at both instances\n",
        "F_in  = data.loc[in_mask, \"flux\"].median()\n",
        "F_oot = data.loc[oot_mask, \"flux\"].median()\n",
        "\n",
        "\n",
        "# finds difference between the flux when out of transit and when in transit to show how much light is blocked by WASP12b\n",
        "transit_depth = F_oot - F_in\n",
        "Rp_Rs = np.sqrt(transit_depth)\n",
        "\n",
        "# show me all dat\n",
        "\n",
        "print(f\"Out-of-transit flux ~ {F_oot:.5f}\")\n",
        "print(f\"In-transit flux     ~ {F_in:.5f}\")\n",
        "print(f\"Transit depth       ~ {transit_depth:.5f}\")\n",
        "print(f\"Estimated R_p/R_s   ~ {Rp_Rs:.4f}\")"
      ]
    },
    {
      "cell_type": "code",
      "execution_count": null,
      "metadata": {
        "id": "zKSrSHpO9Ho3"
      },
      "outputs": [],
      "source": [
        "# count how many data points are in that in transit region / how many aren't\n",
        "n_in = len(data.loc[in_mask, \"flux\"])\n",
        "n_oot = len(data.loc[oot_mask, \"flux\"])\n",
        "\n",
        "# finds the standard error of flux in both instances\n",
        "# standard deviation of flux values are divided by sqrt of # of data points within the given region (either in or out of transit)\n",
        "sigma_in = np.std(data.loc[in_mask, \"flux\"]) / np.sqrt(n_in)\n",
        "sigma_oot = np.std(data.loc[oot_mask, \"flux\"]) / np.sqrt(n_oot)\n",
        "\n",
        "# transit depth is the difference b/w out of transit and in transit flux\n",
        "# this propagates the uncertainties for both the regions using standard formula for combining errors\n",
        "sigma_depth = np.sqrt(sigma_oot**2 + sigma_in**2)\n",
        "\n",
        "# talked about this in class... planet to star ratio is Rp/Rs = sqrt(transit_depth)\n",
        "# we can propagate the error through a sqrt operation\n",
        "sigma_Rp_Rs = (0.5 / np.sqrt(transit_depth)) * sigma_depth\n",
        "\n",
        "\n",
        "# print me some values thank ya very much\n",
        "print(f\"Transit depth uncertainty = {sigma_depth:.5f}\")\n",
        "print(f\"Rp/Rs uncertainty = {sigma_Rp_Rs:.4f}\")\n",
        "\n",
        "# simple definition of the radius of WASP-12 (the star)\n",
        "R_star_solar = 1.6\n",
        "R_sun = 6.957e8\n",
        "R_star_m = R_star_solar * R_sun\n",
        "\n",
        "# this is planetary radius which is found by multiplying the ratio Rp/Rs by Rs (obviously)\n",
        "# uncertainty in Rp is scaled by star radius shown here\n",
        "R_p_m = Rp_Rs * R_star_m\n",
        "sigma_R_p_m = R_star_m * sigma_Rp_Rs\n",
        "\n",
        "#convert the planet radius from meters to jupiter radii\n",
        "R_jup = 7.1492e7\n",
        "R_p_jup = R_p_m / R_jup\n",
        "sigma_R_p_jup = sigma_R_p_m / R_jup\n",
        "\n",
        "\n",
        "# here is the good stuff\n",
        "print(f\"Estimated planetary radius = {R_p_m:.2e} m ± {sigma_R_p_m:.2e} m\")\n",
        "print(f\"Estimated planetary radius = {R_p_jup:.2f} R_J ± {sigma_R_p_jup:.2f} R_J\")"
      ]
    },
    {
      "cell_type": "code",
      "execution_count": null,
      "metadata": {
        "id": "axxeFP-h9Ho3"
      },
      "outputs": [],
      "source": [
        "from math import pi, sqrt\n",
        "\n",
        "# find density with known formula when given Rp and Mp. Easy peasy\n",
        "\n",
        "density = M_p / ((4.0/3.0) * pi * (R_p_m ** 3))\n",
        "\n",
        "# once again we gotta propagate the uncertainties from before into this uncertainty\n",
        "# note that 3 * radius uncertainty since volume is prop. to R^3.\n",
        "sigma_density = density * sqrt((M_p_err / M_p) ** 2 + (3 * sigma_R_p_m / R_p_m) ** 2)\n",
        "\n",
        "# we got our density in g/cm^3 but let's convert to kg/m^3 cuz standard/typical SI units that's why.\n",
        "density_gcm3 = density / 1000.0\n",
        "sigma_density_gcm3 = sigma_density / 1000.0\n",
        "\n",
        "# low ahh density\n",
        "# this is relatively consistent with actual value tho so dance !\n",
        "print(f\"Planet density = {density:.2f} kg/m³ ± {sigma_density:.2f} kg/m³\")\n",
        "print(f\"Planet density = {density_gcm3:.2f} g/cm³ ± {sigma_density_gcm3:.2f} g/cm³\")"
      ]
    },
    {
      "cell_type": "code",
      "execution_count": null,
      "metadata": {
        "id": "opgLYK9T9Ho3"
      },
      "outputs": [],
      "source": [
        "# thank you and good night"
      ]
    }
  ],
  "metadata": {
    "kernelspec": {
      "display_name": "Python 3",
      "language": "python",
      "name": "python3"
    },
    "language_info": {
      "codemirror_mode": {
        "name": "ipython",
        "version": 3
      },
      "file_extension": ".py",
      "mimetype": "text/x-python",
      "name": "python",
      "nbconvert_exporter": "python",
      "pygments_lexer": "ipython3",
      "version": "3.7.0"
    },
    "colab": {
      "provenance": [],
      "include_colab_link": true
    }
  },
  "nbformat": 4,
  "nbformat_minor": 0
}